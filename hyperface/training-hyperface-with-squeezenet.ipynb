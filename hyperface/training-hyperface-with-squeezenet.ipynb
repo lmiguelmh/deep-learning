{
 "cells": [
  {
   "cell_type": "markdown",
   "metadata": {},
   "source": [
    "Seeing that Hyperface with VGG16 as main model is so big, we decide to try to train in a 'smaller' architecture (SqueezeNet https://arxiv.org/abs/1602.07360v3).\n",
    "\n",
    "Reducing the size of AlexNet:\n",
    "- SVD: 5x compression, 56% top-1 accuracy\n",
    "- Pruning: 9x compression, 57.2% top-1 accuracy\n",
    "- Deep Compression: 35x compression, ~57% top-1 accuracy\n",
    "- SqueezeNet: 50x compression, ~57% top-1 accuracy"
   ]
  },
  {
   "cell_type": "code",
   "execution_count": 11,
   "metadata": {},
   "outputs": [],
   "source": [
    "from keras import backend as K\n",
    "from keras.models import Model \n",
    "from keras.preprocessing.image import ImageDataGenerator\n",
    "from keras.models import Sequential\n",
    "from keras.layers import Dropout, Flatten, Dense\n",
    "from keras import applications\n",
    "from keras.applications.imagenet_utils import preprocess_input, decode_predictions\n",
    "from keras.preprocessing import image\n",
    "import os\n",
    "import time\n",
    "import numpy as np\n",
    "import h5py\n",
    "import squeeze\n",
    "import hf\n"
   ]
  },
  {
   "cell_type": "markdown",
   "metadata": {},
   "source": [
    "Dropping classifier block in Squeeze model. The net already has pretrained weights."
   ]
  },
  {
   "cell_type": "code",
   "execution_count": 12,
   "metadata": {},
   "outputs": [],
   "source": [
    "model = squeeze.SqueezeNet()\n",
    "model = Model(inputs=model.input, outputs=model.get_layer('drop9').output)\n",
    "# model.summary()"
   ]
  },
  {
   "cell_type": "code",
   "execution_count": 13,
   "metadata": {},
   "outputs": [
    {
     "name": "stdout",
     "output_type": "stream",
     "text": [
      "(?, 27, 27, 128) -> (?, 6, 6, 128)\n",
      "(?, 13, 13, 256) -> (?, 6, 6, 128)\n",
      "(?, 13, 13, 512) -> (?, 6, 6, 128)\n",
      "(?, 6, 6, 384)\n",
      "(?, 4, 4, 128)\n",
      "(?, ?)\n"
     ]
    }
   ],
   "source": [
    "from keras.layers import Input, Convolution2D, MaxPooling2D, Activation, Dropout, GlobalAveragePooling2D, merge\n",
    "from keras.layers.merge import concatenate\n",
    "\n",
    "#\n",
    "# # fire2/concat (56x56x128) porque se asemeja a paper (27x27x96, aunque en imagen luce 51x51x96)\n",
    "# conv1a_input = model.get_layer('fire2/concat').output\n",
    "# # con kernel=9x9/9 llegamos a 6x6x128 en paper es 6x6x256\n",
    "# conv1a = Convolution2D(128, (9,9), strides=(9,9), activation='relu', padding='valid', name='conv1a')(conv1a_input)\n",
    "#\n",
    "# pool3 (27x27x128) se asemeja mejor \n",
    "conv1a_input = model.get_layer('pool3').output\n",
    "# con kernel=4x4/4 llegamos a 6x6x128 en paper es 6x6x256\n",
    "conv1a = Convolution2D(128, (4,4), strides=(4,4), activation='relu', padding='valid', name='conv1a')(conv1a_input)\n",
    "print(conv1a_input.shape, '->', conv1a.shape)\n",
    "\n",
    "# pool5 (13x13x256) paper (13x13x384)\n",
    "conv3a_input = model.get_layer('pool5').output\n",
    "conv3a = Convolution2D(128, (2,2), strides=(2,2), activation='relu', padding='valid', name='conv3a')(conv3a_input)\n",
    "print(conv3a_input.shape, '->', conv3a.shape)\n",
    "\n",
    "# no tiene nombre así que le nombramos conv5a\n",
    "# drop9 (13x13x512) paper (6x6x256, aunque en imagen luce 13x13x256)\n",
    "conv5a_input = model.get_layer('drop9').output\n",
    "conv5a = Convolution2D(128, (2,2), strides=(2,2), activation='relu', padding='valid', name='conv5a')(conv5a_input)\n",
    "print(conv5a_input.shape, '->', conv5a.shape)\n",
    "\n",
    "# combinación: 6x6x384 (paper: 6x6x768)\n",
    "concat = concatenate([conv1a, conv3a, conv5a], axis=-1, name='concat')\n",
    "print(concat.shape)\n",
    "\n",
    "# reducción de dimensión: 4x4x128 (paper: 6x6x192)\n",
    "# todo: obtendremos la misma accuracy que entrenando con kernel=(1,1) pero cambios en todas las conv precedentes para llegar a 4x4?\n",
    "# ya que es una fusión de características no parece buena idea mezclar todas haciendo una conv 3x3\n",
    "conv_all = Convolution2D(128, (3, 3), strides=(1,1), activation='relu', padding='valid', name='conv_all')(concat)\n",
    "print(conv_all.shape)\n",
    "\n",
    "# completamente conectadas\n",
    "fc_full = Flatten(input_shape=conv_all.shape, name='fc_full')(conv_all)\n",
    "print(fc_full.shape)"
   ]
  },
  {
   "cell_type": "markdown",
   "metadata": {},
   "source": [
    "<!--<img src=\"squeezenet-architecture.png\"/>-->\n",
    "<img src=\"HyperFace-architecture.small.png\"/>\n",
    "It is important to use Keras functional API."
   ]
  },
  {
   "cell_type": "code",
   "execution_count": 14,
   "metadata": {
    "scrolled": false
   },
   "outputs": [],
   "source": [
    "from keras.regularizers import l2\n",
    "\n",
    "# face/non-face\n",
    "fc_detecton = Dense(256, name='fc_detecton', activation='relu', kernel_initializer='he_normal', kernel_regularizer=l2(0.00))(fc_full)\n",
    "face_nonface = Dense(2, name='face_nonface', activation='softmax', kernel_initializer='he_normal', kernel_regularizer=l2(0.00))(fc_detecton)\n",
    "# print(fc_detecton.shape, face_nonface.shape)\n",
    "\n",
    "fc_landmarks = Dense(256, name='fc_landmarks', activation='relu', kernel_initializer='he_normal', kernel_regularizer=l2(0.00))(fc_full)\n",
    "landmarks = Dense(42, name='landmarks', activation='linear', kernel_initializer='he_normal', kernel_regularizer=l2(0.00))(fc_landmarks)\n",
    "# print(fc_landmarks.shape, landmarks.shape)\n",
    "\n",
    "fc_visibility = Dense(256, name='fc_visibility', activation='relu', kernel_initializer='he_normal', kernel_regularizer=l2(0.00))(fc_full)\n",
    "visibility = Dense(21, name='visibility', activation='sigmoid', kernel_initializer='he_normal', kernel_regularizer=l2(0.00))(fc_visibility)\n",
    "# print(fc_visibility.shape, visibility.shape)\n",
    "\n",
    "fc_pose = Dense(256, name='fc_pose', activation='relu', kernel_initializer='he_normal', kernel_regularizer=l2(0.00))(fc_full)\n",
    "roll_pitch_yaw = Dense(3, name='roll_pitch_yaw', activation='linear', kernel_initializer='he_normal', kernel_regularizer=l2(0.00))(fc_pose)\n",
    "# print(fc_pose.shape, roll_pitch_yaw.shape)\n",
    "\n",
    "fc_gender = Dense(256, name='fc_gender', activation='relu', kernel_initializer='he_normal', kernel_regularizer=l2(0.00))(fc_full)\n",
    "male_female = Dense(2, name='male_female', activation='softmax', kernel_initializer='he_normal', kernel_regularizer=l2(0.00))(fc_gender)\n",
    "# print(fc_gender.shape, male_female.shape)\n",
    "\n",
    "hyperface = Model(inputs=model.input, outputs=[face_nonface, landmarks, visibility, roll_pitch_yaw, male_female])\n",
    "# hyperface.summary()"
   ]
  },
  {
   "cell_type": "code",
   "execution_count": 15,
   "metadata": {},
   "outputs": [
    {
     "name": "stdout",
     "output_type": "stream",
     "text": [
      "hyperface model compiled\n"
     ]
    }
   ],
   "source": [
    "import tensorflow as tf\n",
    "import keras.backend as kb\n",
    "import keras.losses as losses\n",
    "from keras.optimizers import Adam, RMSprop\n",
    "\n",
    "def custom_loss_visibility(y_true, y_pred):\n",
    "    # en paper: loss = 1/N * sum((vpredi-vi)^2)\n",
    "    # para entrenar:\n",
    "    return (1/21) * kb.sum(kb.square(y_pred-y_true), axis=-1)\n",
    "    # para debug:\n",
    "    # return (1/21) * np.sum((y_pred-y_true)**2, axis=-1)\n",
    "\n",
    "def custom_loss_pose(y_true, y_pred):\n",
    "    # en paper: loss = 1/3 * sum((ppredi-pi)^2)\n",
    "    # para entrenamiento:\n",
    "    return (1/3) * kb.sum(kb.square(y_pred-y_true), axis=-1)\n",
    "    # para debug:\n",
    "    # return (1/3) * np.sum((y_pred-y_true)**2, axis=-1)\n",
    "\n",
    "def custom_loss_landmarks(coord_true, coord_pred):    \n",
    "    # en paper: loss = 1/(2N) * Sum(vi*((xpredi-ai)^2 + (ypredi-bi)^2))\n",
    "    x_true_coord = coord_true[:,0:21]\n",
    "    y_true_coord = coord_true[:,21:42]\n",
    "    # viz_true = coord_true[:,42:63]  # produce errores en otros entornos (versión de keras?)\n",
    "    x_pred_coord = coord_pred[:,0:21]\n",
    "    y_pred_coord = coord_pred[:,21:42]\n",
    "    # para entrenamiento:\n",
    "    # return (1/(2*21)) * kb.sum(viz_true * (kb.square(x_pred_coord-x_true_coord) + K.square(y_pred_coord - y_true_coord)), axis=-1)\n",
    "    return (1/(2*21)) * kb.sum((kb.square(x_pred_coord-x_true_coord) + K.square(y_pred_coord - y_true_coord)), axis=-1)\n",
    "    # para debug:\n",
    "    # return (1/(2*21)) * np.sum(viz_true * ((x_pred_coord-x_true_coord)**2 + (y_pred_coord - y_true_coord)**2), axis=-1)\n",
    "\n",
    "def custom_mse_lm(y_true,y_pred):\n",
    "    return kb.sign(kb.sum(kb.abs(y_true),axis=-1))*kb.sum(kb.square(tf.multiply((kb.sign(y_true)+1)*0.5, y_true-y_pred)),axis=-1)/kb.sum((kb.sign(y_true)+1)*0.5,axis=-1)\n",
    "\n",
    "optimizer = Adam(lr=0.0001)\n",
    "hyperface.compile(optimizer=optimizer,\n",
    "                  loss={\n",
    "                      'face_nonface': 'categorical_crossentropy',\n",
    "                      'landmarks': custom_loss_landmarks,\n",
    "                      'visibility': custom_loss_visibility,\n",
    "                      'roll_pitch_yaw': custom_loss_pose,\n",
    "                      'male_female': 'categorical_crossentropy'},\n",
    "                  loss_weights={\n",
    "                      'face_nonface': 1,\n",
    "                      'landmarks': 1,\n",
    "                      'visibility': 1,\n",
    "                      'roll_pitch_yaw': 1,\n",
    "                      'male_female': 1})\n",
    "print(\"hyperface model compiled\")"
   ]
  },
  {
   "cell_type": "code",
   "execution_count": 16,
   "metadata": {
    "scrolled": false
   },
   "outputs": [
    {
     "name": "stdout",
     "output_type": "stream",
     "text": [
      "Building train/validation data generator...\n",
      "Found 12116 positive samples and 12116 negative samples.\n",
      "Found 505 positive samples and 505 negative samples.\n",
      "Start training...\n",
      "Epoch 1/25\n",
      "  5/100 [>.............................] - ETA: 15:40 - loss: 4.4623 - face_nonface_loss: 0.0148 - landmarks_loss: 2.5882 - visibility_loss: 0.2440 - roll_pitch_yaw_loss: 1.6152 - male_female_loss: 0.0000e+00"
     ]
    },
    {
     "name": "stderr",
     "output_type": "stream",
     "text": [
      "C:\\Users\\Asus\\Anaconda2\\envs\\keras\\lib\\site-packages\\PIL\\TiffImagePlugin.py:725: UserWarning: Possibly corrupt EXIF data.  Expecting to read 19660800 bytes but only got 0. Skipping tag 0\n",
      "  \" Skipping tag %s\" % (size, len(data), tag))\n",
      "C:\\Users\\Asus\\Anaconda2\\envs\\keras\\lib\\site-packages\\PIL\\TiffImagePlugin.py:742: UserWarning: Corrupt EXIF data.  Expecting to read 12 bytes but only got 6. \n",
      "  warnings.warn(str(msg))\n"
     ]
    },
    {
     "name": "stdout",
     "output_type": "stream",
     "text": [
      " 12/100 [==>...........................] - ETA: 13:16 - loss: 2.3934 - face_nonface_loss: 0.0090 - landmarks_loss: 1.2979 - visibility_loss: 0.1552 - roll_pitch_yaw_loss: 0.9314 - male_female_loss: 0.0000e+00"
     ]
    },
    {
     "name": "stderr",
     "output_type": "stream",
     "text": [
      "C:\\Users\\Asus\\Anaconda2\\envs\\keras\\lib\\site-packages\\PIL\\TiffImagePlugin.py:742: UserWarning: Corrupt EXIF data.  Expecting to read 12 bytes but only got 0. \n",
      "  warnings.warn(str(msg))\n"
     ]
    },
    {
     "name": "stdout",
     "output_type": "stream",
     "text": [
      " 36/100 [=========>....................] - ETA: 9:17 - loss: 0.9425 - face_nonface_loss: 0.0081 - landmarks_loss: 0.4788 - visibility_loss: 0.0923 - roll_pitch_yaw_loss: 0.3632 - male_female_loss: 0.0000e+00"
     ]
    },
    {
     "name": "stderr",
     "output_type": "stream",
     "text": [
      "C:\\Users\\Asus\\Anaconda2\\envs\\keras\\lib\\site-packages\\PIL\\TiffImagePlugin.py:742: UserWarning: Corrupt EXIF data.  Expecting to read 2 bytes but only got 0. \n",
      "  warnings.warn(str(msg))\n"
     ]
    },
    {
     "name": "stdout",
     "output_type": "stream",
     "text": [
      " 77/100 [======================>.......] - ETA: 3:19 - loss: 0.4702 - face_nonface_loss: 0.0038 - landmarks_loss: 0.2350 - visibility_loss: 0.0469 - roll_pitch_yaw_loss: 0.1845 - male_female_loss: 0.0000e+00"
     ]
    },
    {
     "name": "stderr",
     "output_type": "stream",
     "text": [
      "C:\\Users\\Asus\\Anaconda2\\envs\\keras\\lib\\site-packages\\PIL\\TiffImagePlugin.py:742: UserWarning: Corrupt EXIF data.  Expecting to read 12 bytes but only got 4. \n",
      "  warnings.warn(str(msg))\n"
     ]
    },
    {
     "name": "stdout",
     "output_type": "stream",
     "text": [
      "100/100 [==============================] - 1259s 13s/step - loss: 0.3656 - face_nonface_loss: 0.0030 - landmarks_loss: 0.1818 - visibility_loss: 0.0364 - roll_pitch_yaw_loss: 0.1444 - male_female_loss: 0.0000e+00 - val_loss: 0.0053 - val_face_nonface_loss: 2.8573e-05 - val_landmarks_loss: 3.3758e-04 - val_visibility_loss: 0.0010 - val_roll_pitch_yaw_loss: 0.0039 - val_male_female_loss: 0.0000e+00\n",
      "Epoch 2/25\n",
      " 10/100 [==>...........................] - ETA: 12:38 - loss: 0.0086 - face_nonface_loss: 1.4834e-05 - landmarks_loss: 8.1649e-04 - visibility_loss: 6.8650e-04 - roll_pitch_yaw_loss: 0.0070 - male_female_loss: 0.0000e+00Warning: Couldn't load image C://Users//Asus//AnacondaProjects//AFLW//aflw//data//flickr\\2/image09437.jpg\n",
      " 70/100 [====================>.........] - ETA: 4:16 - loss: 0.0052 - face_nonface_loss: 9.4725e-06 - landmarks_loss: 2.5461e-04 - visibility_loss: 3.9656e-04 - roll_pitch_yaw_loss: 0.0045 - male_female_loss: 0.0000e+00Warning: Couldn't load image C://Users//Asus//AnacondaProjects//AFLW//aflw//data//flickr\\2/image09437.jpg\n",
      "100/100 [==============================] - 1205s 12s/step - loss: 0.0044 - face_nonface_loss: 8.7822e-06 - landmarks_loss: 1.8487e-04 - visibility_loss: 3.4269e-04 - roll_pitch_yaw_loss: 0.0039 - male_female_loss: 0.0000e+00 - val_loss: 0.0015 - val_face_nonface_loss: 7.3849e-06 - val_landmarks_loss: 7.5267e-06 - val_visibility_loss: 1.7435e-04 - val_roll_pitch_yaw_loss: 0.0013 - val_male_female_loss: 0.0000e+00\n",
      "Epoch 3/25\n",
      "100/100 [==============================] - 1214s 12s/step - loss: 0.0018 - face_nonface_loss: 5.4893e-06 - landmarks_loss: 7.2457e-06 - visibility_loss: 1.3404e-04 - roll_pitch_yaw_loss: 0.0017 - male_female_loss: 0.0000e+00 - val_loss: 0.0010 - val_face_nonface_loss: 3.1860e-06 - val_landmarks_loss: 3.0431e-06 - val_visibility_loss: 6.9878e-05 - val_roll_pitch_yaw_loss: 9.4412e-04 - val_male_female_loss: 0.0000e+00\n",
      "Epoch 4/25\n",
      "100/100 [==============================] - 1183s 12s/step - loss: 0.0012 - face_nonface_loss: 3.0374e-06 - landmarks_loss: 3.2521e-06 - visibility_loss: 7.1035e-05 - roll_pitch_yaw_loss: 0.0011 - male_female_loss: 0.0000e+00 - val_loss: 7.4735e-04 - val_face_nonface_loss: 1.7367e-06 - val_landmarks_loss: 1.9755e-06 - val_visibility_loss: 3.8416e-05 - val_roll_pitch_yaw_loss: 7.0522e-04 - val_male_female_loss: 0.0000e+00\n",
      "Epoch 5/25\n",
      "100/100 [==============================] - 1124s 11s/step - loss: 8.6191e-04 - face_nonface_loss: 1.9781e-06 - landmarks_loss: 1.7065e-06 - visibility_loss: 4.4756e-05 - roll_pitch_yaw_loss: 8.1347e-04 - male_female_loss: 0.0000e+00 - val_loss: 5.8257e-04 - val_face_nonface_loss: 1.0541e-06 - val_landmarks_loss: 1.5277e-06 - val_visibility_loss: 2.4613e-05 - val_roll_pitch_yaw_loss: 5.5538e-04 - val_male_female_loss: 0.0000e+00\n",
      "Epoch 6/25\n",
      "100/100 [==============================] - 1111s 11s/step - loss: 6.4547e-04 - face_nonface_loss: 1.2959e-06 - landmarks_loss: 1.3149e-06 - visibility_loss: 2.9485e-05 - roll_pitch_yaw_loss: 6.1338e-04 - male_female_loss: 0.0000e+00 - val_loss: 4.7092e-04 - val_face_nonface_loss: 6.6872e-07 - val_landmarks_loss: 1.0248e-06 - val_visibility_loss: 1.5761e-05 - val_roll_pitch_yaw_loss: 4.5347e-04 - val_male_female_loss: 0.0000e+00\n",
      "Epoch 7/25\n",
      "100/100 [==============================] - 1110s 11s/step - loss: 5.1309e-04 - face_nonface_loss: 9.4224e-07 - landmarks_loss: 8.7250e-07 - visibility_loss: 2.0760e-05 - roll_pitch_yaw_loss: 4.9052e-04 - male_female_loss: 0.0000e+00 - val_loss: 4.2278e-04 - val_face_nonface_loss: 5.4365e-07 - val_landmarks_loss: 7.8223e-07 - val_visibility_loss: 1.2577e-05 - val_roll_pitch_yaw_loss: 4.0887e-04 - val_male_female_loss: 0.0000e+00\n",
      "Epoch 8/25\n",
      "100/100 [==============================] - 1106s 11s/step - loss: 4.1619e-04 - face_nonface_loss: 7.4907e-07 - landmarks_loss: 6.6013e-07 - visibility_loss: 1.5863e-05 - roll_pitch_yaw_loss: 3.9892e-04 - male_female_loss: 0.0000e+00 - val_loss: 2.9647e-04 - val_face_nonface_loss: 4.3379e-07 - val_landmarks_loss: 5.8867e-07 - val_visibility_loss: 9.7106e-06 - val_roll_pitch_yaw_loss: 2.8574e-04 - val_male_female_loss: 0.0000e+00\n",
      "Epoch 9/25\n",
      "100/100 [==============================] - 1109s 11s/step - loss: 3.3647e-04 - face_nonface_loss: 6.1846e-07 - landmarks_loss: 4.3540e-07 - visibility_loss: 1.2308e-05 - roll_pitch_yaw_loss: 3.2311e-04 - male_female_loss: 0.0000e+00 - val_loss: 2.5607e-04 - val_face_nonface_loss: 3.7431e-07 - val_landmarks_loss: 4.4281e-07 - val_visibility_loss: 8.0348e-06 - val_roll_pitch_yaw_loss: 2.4721e-04 - val_male_female_loss: 0.0000e+00\n",
      "Epoch 10/25\n",
      "100/100 [==============================] - 1105s 11s/step - loss: 2.7663e-04 - face_nonface_loss: 5.1938e-07 - landmarks_loss: 3.0353e-07 - visibility_loss: 9.8866e-06 - roll_pitch_yaw_loss: 2.6592e-04 - male_female_loss: 0.0000e+00 - val_loss: 2.2250e-04 - val_face_nonface_loss: 3.1431e-07 - val_landmarks_loss: 3.3357e-07 - val_visibility_loss: 6.3436e-06 - val_roll_pitch_yaw_loss: 2.1551e-04 - val_male_female_loss: 0.0000e+00\n",
      "Epoch 11/25\n",
      "100/100 [==============================] - 1111s 11s/step - loss: 2.3198e-04 - face_nonface_loss: 4.3558e-07 - landmarks_loss: 2.2577e-07 - visibility_loss: 7.8431e-06 - roll_pitch_yaw_loss: 2.2347e-04 - male_female_loss: 0.0000e+00 - val_loss: 1.7814e-04 - val_face_nonface_loss: 2.7396e-07 - val_landmarks_loss: 2.5318e-07 - val_visibility_loss: 5.2673e-06 - val_roll_pitch_yaw_loss: 1.7234e-04 - val_male_female_loss: 0.0000e+00\n",
      "Epoch 12/25\n",
      "100/100 [==============================] - 1106s 11s/step - loss: 1.9590e-04 - face_nonface_loss: 3.7321e-07 - landmarks_loss: 1.7422e-07 - visibility_loss: 6.4098e-06 - roll_pitch_yaw_loss: 1.8895e-04 - male_female_loss: 0.0000e+00 - val_loss: 1.5408e-04 - val_face_nonface_loss: 2.4527e-07 - val_landmarks_loss: 1.9701e-07 - val_visibility_loss: 4.4151e-06 - val_roll_pitch_yaw_loss: 1.4923e-04 - val_male_female_loss: 0.0000e+00\n",
      "Epoch 13/25\n",
      "100/100 [==============================] - 1105s 11s/step - loss: 1.6566e-04 - face_nonface_loss: 3.2718e-07 - landmarks_loss: 1.3496e-07 - visibility_loss: 5.3142e-06 - roll_pitch_yaw_loss: 1.5988e-04 - male_female_loss: 0.0000e+00 - val_loss: 1.4139e-04 - val_face_nonface_loss: 2.1802e-07 - val_landmarks_loss: 1.6009e-07 - val_visibility_loss: 3.7335e-06 - val_roll_pitch_yaw_loss: 1.3728e-04 - val_male_female_loss: 0.0000e+00\n",
      "Epoch 14/25\n",
      "100/100 [==============================] - 1092s 11s/step - loss: 1.4137e-04 - face_nonface_loss: 2.8258e-07 - landmarks_loss: 9.0280e-08 - visibility_loss: 4.3267e-06 - roll_pitch_yaw_loss: 1.3667e-04 - male_female_loss: 0.0000e+00 - val_loss: 1.1488e-04 - val_face_nonface_loss: 2.0026e-07 - val_landmarks_loss: 1.2659e-07 - val_visibility_loss: 3.2560e-06 - val_roll_pitch_yaw_loss: 1.1129e-04 - val_male_female_loss: 0.0000e+00\n",
      "Epoch 15/25\n",
      "100/100 [==============================] - 1107s 11s/step - loss: 1.2139e-04 - face_nonface_loss: 2.5596e-07 - landmarks_loss: 8.5430e-08 - visibility_loss: 3.7519e-06 - roll_pitch_yaw_loss: 1.1729e-04 - male_female_loss: 0.0000e+00 - val_loss: 1.0005e-04 - val_face_nonface_loss: 1.8671e-07 - val_landmarks_loss: 1.0274e-07 - val_visibility_loss: 2.8731e-06 - val_roll_pitch_yaw_loss: 9.6888e-05 - val_male_female_loss: 0.0000e+00\n",
      "Epoch 16/25\n",
      "100/100 [==============================] - 1105s 11s/step - loss: 1.0418e-04 - face_nonface_loss: 2.2894e-07 - landmarks_loss: 6.3868e-08 - visibility_loss: 3.1392e-06 - roll_pitch_yaw_loss: 1.0075e-04 - male_female_loss: 0.0000e+00 - val_loss: 8.8715e-05 - val_face_nonface_loss: 1.7249e-07 - val_landmarks_loss: 8.3305e-08 - val_visibility_loss: 2.4934e-06 - val_roll_pitch_yaw_loss: 8.5966e-05 - val_male_female_loss: 0.0000e+00\n",
      "Epoch 17/25\n",
      "100/100 [==============================] - 1092s 11s/step - loss: 9.1799e-05 - face_nonface_loss: 2.0865e-07 - landmarks_loss: 4.6448e-08 - visibility_loss: 2.6980e-06 - roll_pitch_yaw_loss: 8.8846e-05 - male_female_loss: 0.0000e+00 - val_loss: 7.3862e-05 - val_face_nonface_loss: 1.6225e-07 - val_landmarks_loss: 6.2347e-08 - val_visibility_loss: 2.2032e-06 - val_roll_pitch_yaw_loss: 7.1434e-05 - val_male_female_loss: 0.0000e+00\n",
      "Epoch 18/25\n"
     ]
    },
    {
     "name": "stdout",
     "output_type": "stream",
     "text": [
      "100/100 [==============================] - 1086s 11s/step - loss: 7.8375e-05 - face_nonface_loss: 1.8939e-07 - landmarks_loss: 3.5160e-08 - visibility_loss: 2.2729e-06 - roll_pitch_yaw_loss: 7.5877e-05 - male_female_loss: 0.0000e+00 - val_loss: 6.5074e-05 - val_face_nonface_loss: 1.5162e-07 - val_landmarks_loss: 5.1947e-08 - val_visibility_loss: 1.9519e-06 - val_roll_pitch_yaw_loss: 6.2918e-05 - val_male_female_loss: 0.0000e+00\n",
      "Epoch 19/25\n",
      "100/100 [==============================] - 1111s 11s/step - loss: 7.1333e-05 - face_nonface_loss: 1.7759e-07 - landmarks_loss: 2.2936e-08 - visibility_loss: 2.0085e-06 - roll_pitch_yaw_loss: 6.9124e-05 - male_female_loss: 0.0000e+00 - val_loss: 6.2196e-05 - val_face_nonface_loss: 1.4944e-07 - val_landmarks_loss: 4.3908e-08 - val_visibility_loss: 1.8507e-06 - val_roll_pitch_yaw_loss: 6.0152e-05 - val_male_female_loss: 0.0000e+00\n",
      "Epoch 20/25\n",
      "100/100 [==============================] - 1091s 11s/step - loss: 6.0149e-05 - face_nonface_loss: 1.6660e-07 - landmarks_loss: 2.1534e-08 - visibility_loss: 1.7741e-06 - roll_pitch_yaw_loss: 5.8187e-05 - male_female_loss: 0.0000e+00 - val_loss: 5.9853e-05 - val_face_nonface_loss: 1.4211e-07 - val_landmarks_loss: 3.3035e-08 - val_visibility_loss: 1.6581e-06 - val_roll_pitch_yaw_loss: 5.8019e-05 - val_male_female_loss: 0.0000e+00\n",
      "Epoch 21/25\n",
      "100/100 [==============================] - 1094s 11s/step - loss: 5.6378e-05 - face_nonface_loss: 1.5719e-07 - landmarks_loss: 1.8380e-08 - visibility_loss: 1.5875e-06 - roll_pitch_yaw_loss: 5.4615e-05 - male_female_loss: 0.0000e+00 - val_loss: 4.4076e-05 - val_face_nonface_loss: 1.4129e-07 - val_landmarks_loss: 2.8443e-08 - val_visibility_loss: 1.6361e-06 - val_roll_pitch_yaw_loss: 4.2271e-05 - val_male_female_loss: 0.0000e+00\n",
      "Epoch 22/25\n",
      "100/100 [==============================] - 1090s 11s/step - loss: 4.5724e-05 - face_nonface_loss: 1.5396e-07 - landmarks_loss: 1.2732e-08 - visibility_loss: 1.4226e-06 - roll_pitch_yaw_loss: 4.4135e-05 - male_female_loss: 0.0000e+00 - val_loss: 4.1887e-05 - val_face_nonface_loss: 1.3906e-07 - val_landmarks_loss: 2.0981e-08 - val_visibility_loss: 1.4308e-06 - val_roll_pitch_yaw_loss: 4.0296e-05 - val_male_female_loss: 0.0000e+00\n",
      "Epoch 23/25\n",
      "100/100 [==============================] - 1090s 11s/step - loss: 4.2320e-05 - face_nonface_loss: 1.4338e-07 - landmarks_loss: 7.2118e-09 - visibility_loss: 1.2805e-06 - roll_pitch_yaw_loss: 4.0889e-05 - male_female_loss: 0.0000e+00 - val_loss: 3.4871e-05 - val_face_nonface_loss: 1.3220e-07 - val_landmarks_loss: 1.8999e-08 - val_visibility_loss: 1.3312e-06 - val_roll_pitch_yaw_loss: 3.3389e-05 - val_male_female_loss: 0.0000e+00\n",
      "Epoch 24/25\n",
      "100/100 [==============================] - 1102s 11s/step - loss: 3.4833e-05 - face_nonface_loss: 1.3978e-07 - landmarks_loss: 8.3070e-09 - visibility_loss: 1.0749e-06 - roll_pitch_yaw_loss: 3.3610e-05 - male_female_loss: 0.0000e+00 - val_loss: 3.2053e-05 - val_face_nonface_loss: 1.3010e-07 - val_landmarks_loss: 1.5955e-08 - val_visibility_loss: 1.1536e-06 - val_roll_pitch_yaw_loss: 3.0754e-05 - val_male_female_loss: 0.0000e+00\n",
      "Epoch 25/25\n",
      "100/100 [==============================] - 1089s 11s/step - loss: 3.2511e-05 - face_nonface_loss: 1.3973e-07 - landmarks_loss: 4.3075e-09 - visibility_loss: 1.0083e-06 - roll_pitch_yaw_loss: 3.1359e-05 - male_female_loss: 0.0000e+00 - val_loss: 2.5796e-05 - val_face_nonface_loss: 1.2987e-07 - val_landmarks_loss: 1.0616e-08 - val_visibility_loss: 1.0722e-06 - val_roll_pitch_yaw_loss: 2.4583e-05 - val_male_female_loss: 0.0000e+00\n"
     ]
    }
   ],
   "source": [
    "import hf\n",
    "\n",
    "print(\"Building train/validation data generator...\")\n",
    "\n",
    "# para corregir el problema de una imagen jpg no válida:\n",
    "# convert -resize 50% /home/lmiguel/Projects/datasets/aflw/aflw/data/flickr/3/image21068.jpg /home/lmiguel/Projects/datasets/aflw/aflw/data/flickr/3/image21068.jpg\n",
    "# convert -resize 200% /home/lmiguel/Projects/datasets/aflw/aflw/data/flickr/3/image21068.jpg /home/lmiguel/Projects/datasets/aflw/aflw/data/flickr/3/image21068.jpg\n",
    "json_dir = os.path.dirname(os.path.realpath('__file__')) # genérico\n",
    "\n",
    "train_data = hf.ImageDataGeneratorV2(samplewise_center=True,                                     \n",
    "                                     samplewise_std_normalization=True)\n",
    "train_data_flow = train_data.flow_from_directory(json_dir,\n",
    "                                                 'negatives5k-train.json', 'positives5k-train.json', \n",
    "                                                 # 'positives.json', 'negatives.json', \n",
    "                                                 pos_max_load_labels=12116, neg_max_load_labels=12116*3, #Número de negativos 454512\n",
    "                                                 output_type='hyperface', target_size=(227, 227),\n",
    "                                                 pos_batch_size=64, neg_batch_size=64)\n",
    "\n",
    "val_data = hf.ImageDataGeneratorV2(samplewise_center=True,            \n",
    "                                    samplewise_std_normalization=True)\n",
    "val_data_flow = val_data.flow_from_directory(json_dir, \n",
    "                                              'negatives5k-test.json', 'positives5k-test.json', \n",
    "                                              pos_max_load_labels=505, neg_max_load_labels=505*3, #Número de negativos 18938\n",
    "                                              output_type='hyperface', target_size=(227, 227),\n",
    "                                              pos_batch_size=64, neg_batch_size=64)\n",
    "\n",
    "# # checkpoint\n",
    "# filepath=\"weights-{epoch:02d}-{loss:.2f}.hdf5\"\n",
    "# checkpoint = ModelCheckpoint(filepath, monitor='train_loss', verbose=1, save_best_only=False, mode='min', period=30)\n",
    "# callbacks_list = [checkpoint]\n",
    "\n",
    "print(\"Start training...\")\n",
    "# history = hyperface.fit_generator(train_data_flow, steps_per_epoch=100, epochs=300, callbacks=callbacks_list)\n",
    "history = hyperface.fit_generator(generator=train_data_flow, \n",
    "                                   validation_data=val_data_flow,\n",
    "                                   validation_steps=100,\n",
    "                                  steps_per_epoch=100, epochs=25) \n",
    "#                                   steps_per_epoch=100, epochs=30)"
   ]
  },
  {
   "cell_type": "markdown",
   "metadata": {},
   "source": [
    "Predecir"
   ]
  },
  {
   "cell_type": "code",
   "execution_count": 17,
   "metadata": {},
   "outputs": [
    {
     "name": "stdout",
     "output_type": "stream",
     "text": [
      "Found 12116 positive samples and 12116 negative samples.\n",
      "Predicciones: (face_nonface, landmarks, visibility, roll_pitch_yaw, male_female)\n",
      "face_nonface ground truth:\n",
      "[0 1]\n",
      "face_nonface predicted:\n",
      "[[  4.53685232e-08   1.00000000e+00]]\n",
      "\n",
      "landmarks ground truth:\n",
      "[ 0.  0.  0.  0.  0.  0.  0.  0.  0.  0.  0.  0.  0.  0.  0.  0.  0.  0.\n",
      "  0.  0.  0.  0.  0.  0.  0.  0.  0.  0.  0.  0.  0.  0.  0.  0.  0.  0.\n",
      "  0.  0.  0.  0.  0.  0.]\n",
      "landmarks predicted:\n",
      "[[ -1.16454665e-07  -3.13893977e-08   7.63012849e-06   3.28865866e-07\n",
      "   -1.11974828e-06  -6.68034409e-06  -4.32044629e-07   7.62155469e-06\n",
      "    1.80779568e-06   2.26687462e-07   1.14269489e-04  -3.95842144e-05\n",
      "   -5.30707766e-05  -1.46989887e-05   9.11433631e-07   1.14984584e-06\n",
      "   -1.40033819e-06  -9.86578016e-07  -5.76703371e-07   4.01092757e-06\n",
      "   -7.51229963e-05  -4.60335104e-05  -3.79526028e-07  -2.97709448e-05\n",
      "   -4.13479465e-05   8.86376620e-06   5.06723723e-07   3.45885127e-07\n",
      "   -9.39209031e-08  -6.47640150e-07   2.68219537e-07   5.91572530e-07\n",
      "   -1.23248674e-06   3.22521714e-06  -3.09705160e-06  -1.18114963e-06\n",
      "    5.34406863e-05  -6.18425383e-06   1.23528705e-04  -2.14441866e-06\n",
      "   -1.65942747e-05  -3.00756369e-07]]\n",
      "\n",
      "visibility ground truth:\n",
      "[ 0.  0.  0.  0.  0.  0.  0.  0.  0.  0.  0.  0.  0.  0.  0.  0.  0.  0.\n",
      "  0.  0.  0.]\n",
      "visibility predicted:\n",
      "[[ 0.00109484  0.00151164  0.0011162   0.00106342  0.00100714  0.00064393\n",
      "   0.00095864  0.00063167  0.00098998  0.0011409   0.00108598  0.00113402\n",
      "   0.00093383  0.00101231  0.00109472  0.00051826  0.00096094  0.00134004\n",
      "   0.00045297  0.00048707  0.00090509]]\n",
      "\n",
      "pose ground truth:\n",
      "[ 0.  0.  0.]\n",
      "pose predicted:\n",
      "[[-0.00557567 -0.00012834  0.00289657]]\n",
      "\n",
      "gender ground truth:\n",
      "[0 0]\n",
      "gender predicted:\n",
      "[[ 0.85385203  0.146148  ]]\n",
      "\n"
     ]
    }
   ],
   "source": [
    "data_flow = train_data.flow_from_directory(json_dir,\n",
    "                                            'negatives5k-train.json', 'positives5k-train.json', \n",
    "                                            # 'positives.json', 'negatives.json', \n",
    "                                            pos_max_load_labels=12116, neg_max_load_labels=12116*3, #Número de negativos 454512\n",
    "                                            output_type='predict', target_size=(227, 227),\n",
    "                                            pos_batch_size=64, neg_batch_size=64)\n",
    "batch_x, batch_image, batch_bbox, batch_y_fnf, batch_y_landmarks, batch_y_visfac, batch_y_pose, batch_y_gender = data_flow.next()\n",
    "\n",
    "# DO NOT LOAD LIKE THIS, USE A REGION FIRST!\n",
    "# path = batch_image[0]\n",
    "# print(\"loading\", path)\n",
    "# img = image.load_img(path, target_size=(227, 227))\n",
    "# x = image.img_to_array(img)\n",
    "# x = train_data.standardize(x)\n",
    "# x = np.expand_dims(x, axis=0)\n",
    "\n",
    "subject = 0\n",
    "x = batch_x[subject]\n",
    "x = np.expand_dims(x, axis=0)\n",
    "\n",
    "preds = hyperface.predict(x)\n",
    "\n",
    "print('Predicciones: (face_nonface, landmarks, visibility, roll_pitch_yaw, male_female)')\n",
    "\n",
    "print('face_nonface ground truth:')\n",
    "print(batch_y_fnf[subject])\n",
    "print('face_nonface predicted:')\n",
    "print(preds[0])\n",
    "print()\n",
    "\n",
    "print('landmarks ground truth:')\n",
    "print(batch_y_landmarks[subject])\n",
    "print('landmarks predicted:')\n",
    "print(preds[1])\n",
    "print()\n",
    "\n",
    "print('visibility ground truth:')\n",
    "print(batch_y_visfac[subject])\n",
    "print('visibility predicted:')\n",
    "print(preds[2])\n",
    "print()\n",
    "\n",
    "print('pose ground truth:')\n",
    "print(batch_y_pose[subject])\n",
    "print('pose predicted:')\n",
    "print(preds[3])\n",
    "print()\n",
    "\n",
    "print('gender ground truth:')\n",
    "print(batch_y_gender[subject])\n",
    "print('gender predicted:')\n",
    "print(preds[4])\n",
    "print()"
   ]
  },
  {
   "cell_type": "code",
   "execution_count": 18,
   "metadata": {},
   "outputs": [
    {
     "name": "stderr",
     "output_type": "stream",
     "text": [
      "C:\\Users\\Asus\\Anaconda2\\envs\\keras\\lib\\site-packages\\pandas\\plotting\\_core.py:1714: UserWarning: Pandas doesn't allow columns to be created via a new attribute name - see https://pandas.pydata.org/pandas-docs/stable/indexing.html#attribute-access\n",
      "  series.name = label\n"
     ]
    },
    {
     "data": {
      "text/plain": [
       "<matplotlib.axes._subplots.AxesSubplot at 0x16383ff52b0>"
      ]
     },
     "execution_count": 18,
     "metadata": {},
     "output_type": "execute_result"
    },
    {
     "data": {
      "image/png": "[encoded data removed]",
      "text/plain": [
       "<matplotlib.figure.Figure at 0x163844222b0>"
      ]
     },
     "metadata": {},
     "output_type": "display_data"
    }
   ],
   "source": [
    "import pandas as pd\n",
    "import matplotlib.pyplot as plt\n",
    "%matplotlib inline\n",
    "df = pd.DataFrame(history.history)\n",
    "# df.plot(y=['loss', 'val_loss'], figsize=(16,4), title='Loss')\n",
    "# df.plot(y=['acc', 'val_acc'], figsize=(16,4), title='Accuracy')\n",
    "df.plot(y=['loss'], figsize=(12,4), title='Loss')\n",
    "# df"
   ]
  },
  {
   "cell_type": "code",
   "execution_count": null,
   "metadata": {
    "collapsed": true
   },
   "outputs": [],
   "source": [
    "import h5py\n",
    "hyperface.save_weights(\"hyperface.weights.h5\")\n",
    "\n",
    "model_yaml = hyperface.to_yaml()\n",
    "with open(\"hyperface.model.yaml\", \"w\") as yaml_file:\n",
    "    yaml_file.write(model_yaml)\n",
    "\n",
    "# throws json non serializable exception\n",
    "# model_json = hyperface.to_json()\n",
    "# with open(\"hyperface.model.json\", \"w\") as json_file:\n",
    "#     json_file.write(model_json)\n",
    "\n",
    "print(\"model written\")"
   ]
  },
  {
   "cell_type": "markdown",
   "metadata": {},
   "source": [
    "### Testing with a model without heads"
   ]
  },
  {
   "cell_type": "code",
   "execution_count": 11,
   "metadata": {},
   "outputs": [
    {
     "name": "stdout",
     "output_type": "stream",
     "text": [
      "hyperface_faceposegender model compiled\n",
      "Found 2 positive samples and 2 negative samples.\n",
      "training...\n",
      "Epoch 1/5\n",
      "100/100 [==============================] - 3s - loss: 0.0188 - face_nonface_loss: 1.1951e-07 - roll_pitch_yaw_loss: 0.0188 - male_female_loss: 2.9802e-08     \n",
      "Epoch 2/5\n",
      "100/100 [==============================] - 3s - loss: 0.0188 - face_nonface_loss: 1.1921e-07 - roll_pitch_yaw_loss: 0.0188 - male_female_loss: 2.9802e-08     \n",
      "Epoch 3/5\n",
      "100/100 [==============================] - 3s - loss: 0.0188 - face_nonface_loss: 1.1921e-07 - roll_pitch_yaw_loss: 0.0188 - male_female_loss: 2.9802e-08     \n",
      "Epoch 4/5\n",
      "100/100 [==============================] - 3s - loss: 0.0188 - face_nonface_loss: 1.1921e-07 - roll_pitch_yaw_loss: 0.0188 - male_female_loss: 2.9802e-08     \n",
      "Epoch 5/5\n",
      "100/100 [==============================] - 3s - loss: 0.0188 - face_nonface_loss: 1.1921e-07 - roll_pitch_yaw_loss: 0.0188 - male_female_loss: 2.9802e-08     \n"
     ]
    }
   ],
   "source": [
    "hyperface_faceposegender = Model(inputs=model.input, outputs=[face_nonface, roll_pitch_yaw, male_female])\n",
    "optimizer = Adam(lr=0.0001)\n",
    "hyperface_faceposegender.compile(optimizer=optimizer,\n",
    "                  loss={\n",
    "                      'face_nonface': 'categorical_crossentropy',\n",
    "                      'roll_pitch_yaw': custom_loss_pose,\n",
    "                      'male_female': 'categorical_crossentropy'},\n",
    "                  loss_weights={\n",
    "                      'face_nonface': 1,\n",
    "                      'roll_pitch_yaw': 1,\n",
    "                      'male_female': 1})\n",
    "print(\"hyperface_faceposegender model compiled\")\n",
    "\n",
    "json_dir = os.path.dirname(os.path.realpath('__file__')) # genérico\n",
    "train_data = hf.ImageDataGeneratorV2(samplewise_center=True,                                     \n",
    "                                     samplewise_std_normalization=True)\n",
    "train_data_flow = train_data.flow_from_directory(json_dir,\n",
    "                                                 'positives.json3k', 'negatives.json3k', \n",
    "                                                 # 'positives.json', 'negatives.json', \n",
    "                                                 pos_max_load_labels=2, neg_max_load_labels=2,\n",
    "                                                 output_type='faceposegender', target_size=(227, 227),\n",
    "                                                 pos_batch_size=64, neg_batch_size=64)\n",
    "print(\"training...\")\n",
    "history = hyperface_faceposegender.fit_generator(generator=train_data_flow, \n",
    "                                  steps_per_epoch=100, epochs=5)"
   ]
  },
  {
   "cell_type": "markdown",
   "metadata": {},
   "source": [
    "Predecir"
   ]
  },
  {
   "cell_type": "code",
   "execution_count": 14,
   "metadata": {},
   "outputs": [
    {
     "name": "stdout",
     "output_type": "stream",
     "text": [
      "Found 1 positive samples and 1 negative samples.\n",
      "Predicciones: (face_nonface, landmarks, visibility, roll_pitch_yaw, male_female)\n",
      "face_nonface ground truth:\n",
      "[1 0]\n",
      "face_nonface predicted:\n",
      "[[  9.86067116e-01   6.11221317e-12]]\n",
      "\n",
      "pose ground truth:\n",
      "[-0.12002859 -0.22056605 -0.40335208]\n",
      "pose predicted:\n",
      "[[  2.77214002e-10   3.17766813e-10   7.23532623e-11]]\n",
      "\n",
      "gender ground truth:\n",
      "[0 1]\n",
      "gender predicted:\n",
      "[[  6.42394287e-13   1.00000000e+00]]\n",
      "\n"
     ]
    }
   ],
   "source": [
    "data_flow = train_data.flow_from_directory(json_dir,\n",
    "                                           'positives.json3k', 'negatives.json3k', \n",
    "                                           # 'positives.json', 'negatives.json', \n",
    "                                           pos_max_load_labels=1, neg_max_load_labels=1,\n",
    "                                           output_type='predict', target_size=(227, 227),\n",
    "                                           pos_batch_size=64, neg_batch_size=64)\n",
    "batch_x, batch_image, batch_bbox, batch_y_fnf, batch_y_landmarks, batch_y_visfac, batch_y_pose, batch_y_gender = data_flow.next()\n",
    "\n",
    "# DO NOT LOAD LIKE THIS, USE A REGION FIRST!\n",
    "# path = batch_image[0]\n",
    "# print(\"loading\", path)\n",
    "# img = image.load_img(path, target_size=(227, 227))\n",
    "# x = image.img_to_array(img)\n",
    "# x = train_data.standardize(x)\n",
    "# x = np.expand_dims(x, axis=0)\n",
    "\n",
    "x = batch_x[0]\n",
    "x = np.expand_dims(x, axis=0)\n",
    "\n",
    "preds = hyperface_faceposegender.predict(x)\n",
    "\n",
    "print('Predicciones: (face_nonface, landmarks, visibility, roll_pitch_yaw, male_female)')\n",
    "\n",
    "print('face_nonface ground truth:')\n",
    "print(batch_y_fnf[0])\n",
    "print('face_nonface predicted:')\n",
    "print(preds[0])\n",
    "print()\n",
    "\n",
    "print('pose ground truth:')\n",
    "print(batch_y_pose[0])\n",
    "print('pose predicted:')\n",
    "print(preds[1])\n",
    "print()\n",
    "\n",
    "print('gender ground truth:')\n",
    "print(batch_y_gender[0])\n",
    "print('gender predicted:')\n",
    "print(preds[2])\n",
    "print()"
   ]
  },
  {
   "cell_type": "markdown",
   "metadata": {},
   "source": [
    "Testing SqueezeNet"
   ]
  },
  {
   "cell_type": "code",
   "execution_count": 3,
   "metadata": {},
   "outputs": [
    {
     "name": "stdout",
     "output_type": "stream",
     "text": [
      "Predicted: [[('n02123045', 'tabby', 0.8085466), ('n02123159', 'tiger_cat', 0.14428307), ('n02124075', 'Egyptian_cat', 0.043808475), ('n02971356', 'carton', 0.0009396731), ('n02127052', 'lynx', 0.00060345326)]]\n"
     ]
    }
   ],
   "source": [
    "model = squeeze.SqueezeNet()\n",
    "\n",
    "path = '/home/lmiguel/Projects/datasets/coco/images/test2017/000000000665.jpg'\n",
    "img = image.load_img(path, target_size=(227, 227))\n",
    "x = image.img_to_array(img)\n",
    "x = np.expand_dims(x, axis=0)\n",
    "x = preprocess_input(x)\n",
    "\n",
    "preds = model.predict(x)\n",
    "print('Predicted:', decode_predictions(preds))"
   ]
  }
 ],
 "metadata": {
  "anaconda-cloud": {},
  "kernelspec": {
   "display_name": "Python 3",
   "language": "python",
   "name": "python3"
  },
  "language_info": {
   "codemirror_mode": {
    "name": "ipython",
    "version": 3
   },
   "file_extension": ".py",
   "mimetype": "text/x-python",
   "name": "python",
   "nbconvert_exporter": "python",
   "pygments_lexer": "ipython3",
   "version": "3.5.4"
  }
 },
 "nbformat": 4,
 "nbformat_minor": 2
}
