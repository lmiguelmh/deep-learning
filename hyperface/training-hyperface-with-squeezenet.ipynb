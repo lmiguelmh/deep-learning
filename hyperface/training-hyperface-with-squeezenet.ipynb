{
 "cells": [
  {
   "cell_type": "markdown",
   "metadata": {},
   "source": [
    "Seeing that Hyperface with VGG16 as main model is so big, we decide to try to train in a 'smaller' architecture (SqueezeNet https://arxiv.org/abs/1602.07360v3).\n",
    "\n",
    "Reducing the size of AlexNet:\n",
    "- SVD: 5x compression, 56% top-1 accuracy\n",
    "- Pruning: 9x compression, 57.2% top-1 accuracy\n",
    "- Deep Compression: 35x compression, ~57% top-1 accuracy\n",
    "- SqueezeNet: 50x compression, ~57% top-1 accuracy"
   ]
  },
  {
   "cell_type": "code",
   "execution_count": 1,
   "metadata": {
    "collapsed": false
   },
   "outputs": [
    {
     "name": "stderr",
     "output_type": "stream",
     "text": [
      "Using TensorFlow backend.\n"
     ]
    }
   ],
   "source": [
    "from keras import backend as K\n",
    "from keras.models import Model \n",
    "from keras.preprocessing.image import ImageDataGenerator\n",
    "from keras.models import Sequential\n",
    "from keras.layers import Dropout, Flatten, Dense\n",
    "from keras import applications\n",
    "from keras.applications.imagenet_utils import preprocess_input, decode_predictions\n",
    "from keras.preprocessing import image\n",
    "import os\n",
    "import time\n",
    "import numpy as np\n",
    "import h5py\n",
    "import squeeze\n",
    "import hf\n"
   ]
  },
  {
   "cell_type": "markdown",
   "metadata": {},
   "source": [
    "Dropping classifier block in Squeeze model. The net already has pretrained weights."
   ]
  },
  {
   "cell_type": "code",
   "execution_count": 2,
   "metadata": {
    "collapsed": true
   },
   "outputs": [],
   "source": [
    "model = squeeze.SqueezeNet()\n",
    "model = Model(inputs=model.input, outputs=model.get_layer('drop9').output)\n",
    "# model.summary()"
   ]
  },
  {
   "cell_type": "code",
   "execution_count": 3,
   "metadata": {
    "collapsed": false
   },
   "outputs": [
    {
     "name": "stdout",
     "output_type": "stream",
     "text": [
      "(?, 27, 27, 128) -> (?, 6, 6, 128)\n",
      "(?, 13, 13, 256) -> (?, 6, 6, 128)\n",
      "(?, 13, 13, 512) -> (?, 6, 6, 128)\n",
      "(?, 6, 6, 384)\n",
      "(?, 4, 4, 128)\n",
      "(?, ?)\n"
     ]
    }
   ],
   "source": [
    "from keras.layers import Input, Convolution2D, MaxPooling2D, Activation, Dropout, GlobalAveragePooling2D, merge\n",
    "from keras.layers.merge import concatenate\n",
    "\n",
    "#\n",
    "# # fire2/concat (56x56x128) porque se asemeja a paper (27x27x96, aunque en imagen luce 51x51x96)\n",
    "# conv1a_input = model.get_layer('fire2/concat').output\n",
    "# # con kernel=9x9/9 llegamos a 6x6x128 en paper es 6x6x256\n",
    "# conv1a = Convolution2D(128, (9,9), strides=(9,9), activation='relu', padding='valid', name='conv1a')(conv1a_input)\n",
    "#\n",
    "# pool3 (27x27x128) se asemeja mejor \n",
    "conv1a_input = model.get_layer('pool3').output\n",
    "# con kernel=4x4/4 llegamos a 6x6x128 en paper es 6x6x256\n",
    "conv1a = Convolution2D(128, (4,4), strides=(4,4), activation='relu', padding='valid', name='conv1a')(conv1a_input)\n",
    "print(conv1a_input.shape, '->', conv1a.shape)\n",
    "\n",
    "# pool5 (13x13x256) paper (13x13x384)\n",
    "conv3a_input = model.get_layer('pool5').output\n",
    "conv3a = Convolution2D(128, (2,2), strides=(2,2), activation='relu', padding='valid', name='conv3a')(conv3a_input)\n",
    "print(conv3a_input.shape, '->', conv3a.shape)\n",
    "\n",
    "# no tiene nombre así que le nombramos conv5a\n",
    "# drop9 (13x13x512) paper (6x6x256, aunque en imagen luce 13x13x256)\n",
    "conv5a_input = model.get_layer('drop9').output\n",
    "conv5a = Convolution2D(128, (2,2), strides=(2,2), activation='relu', padding='valid', name='conv5a')(conv5a_input)\n",
    "print(conv5a_input.shape, '->', conv5a.shape)\n",
    "\n",
    "# combinación: 6x6x384 (paper: 6x6x768)\n",
    "concat = concatenate([conv1a, conv3a, conv5a], axis=-1, name='concat')\n",
    "print(concat.shape)\n",
    "\n",
    "# reducción de dimensión: 4x4x128 (paper: 6x6x192)\n",
    "# todo: obtendremos la misma accuracy que entrenando con kernel=(1,1) pero cambios en todas las conv precedentes para llegar a 4x4?\n",
    "# ya que es una fusión de características no parece buena idea mezclar todas haciendo una conv 3x3\n",
    "conv_all = Convolution2D(128, (3, 3), strides=(1,1), activation='relu', padding='valid', name='conv_all')(concat)\n",
    "print(conv_all.shape)\n",
    "\n",
    "# completamente conectadas\n",
    "fc_full = Flatten(input_shape=conv_all.shape, name='fc_full')(conv_all)\n",
    "print(fc_full.shape)"
   ]
  },
  {
   "cell_type": "markdown",
   "metadata": {},
   "source": [
    "<!--<img src=\"squeezenet-architecture.png\"/>-->\n",
    "<img src=\"HyperFace-architecture.small.png\"/>\n",
    "It is important to use Keras functional API."
   ]
  },
  {
   "cell_type": "code",
   "execution_count": 4,
   "metadata": {
    "collapsed": true,
    "scrolled": false
   },
   "outputs": [],
   "source": [
    "from keras.regularizers import l2\n",
    "\n",
    "# face/non-face\n",
    "fc_detecton = Dense(256, name='fc_detecton', activation='relu', kernel_initializer='he_normal', kernel_regularizer=l2(0.00))(fc_full)\n",
    "face_nonface = Dense(2, name='face_nonface', activation='softmax', kernel_initializer='he_normal', kernel_regularizer=l2(0.00))(fc_detecton)\n",
    "# print(fc_detecton.shape, face_nonface.shape)\n",
    "\n",
    "fc_landmarks = Dense(256, name='fc_landmarks', activation='relu', kernel_initializer='he_normal', kernel_regularizer=l2(0.00))(fc_full)\n",
    "landmarks = Dense(42, name='landmarks', activation='linear', kernel_initializer='he_normal', kernel_regularizer=l2(0.00))(fc_landmarks)\n",
    "# print(fc_landmarks.shape, landmarks.shape)\n",
    "\n",
    "fc_visibility = Dense(256, name='fc_visibility', activation='relu', kernel_initializer='he_normal', kernel_regularizer=l2(0.00))(fc_full)\n",
    "visibility = Dense(21, name='visibility', activation='sigmoid', kernel_initializer='he_normal', kernel_regularizer=l2(0.00))(fc_visibility)\n",
    "# print(fc_visibility.shape, visibility.shape)\n",
    "\n",
    "fc_pose = Dense(256, name='fc_pose', activation='relu', kernel_initializer='he_normal', kernel_regularizer=l2(0.00))(fc_full)\n",
    "roll_pitch_yaw = Dense(3, name='roll_pitch_yaw', activation='linear', kernel_initializer='he_normal', kernel_regularizer=l2(0.00))(fc_pose)\n",
    "# print(fc_pose.shape, roll_pitch_yaw.shape)\n",
    "\n",
    "fc_gender = Dense(256, name='fc_gender', activation='relu', kernel_initializer='he_normal', kernel_regularizer=l2(0.00))(fc_full)\n",
    "male_female = Dense(2, name='male_female', activation='softmax', kernel_initializer='he_normal', kernel_regularizer=l2(0.00))(fc_gender)\n",
    "# print(fc_gender.shape, male_female.shape)\n",
    "\n",
    "hyperface = Model(inputs=model.input, outputs=[face_nonface, landmarks, visibility, roll_pitch_yaw, male_female])\n",
    "# hyperface.summary()"
   ]
  },
  {
   "cell_type": "code",
   "execution_count": 6,
   "metadata": {
    "collapsed": false
   },
   "outputs": [
    {
     "name": "stdout",
     "output_type": "stream",
     "text": [
      "hyperface model compiled\n"
     ]
    }
   ],
   "source": [
    "import tensorflow as tf\n",
    "import keras.backend as kb\n",
    "import keras.losses as losses\n",
    "from keras.optimizers import Adam, RMSprop\n",
    "\n",
    "def custom_loss_visibility(y_true, y_pred):\n",
    "    # en paper: loss = 1/N * sum((vpredi-vi)^2)\n",
    "    # para entrenar:\n",
    "    return (1/21) * kb.sum(kb.square(y_pred-y_true), axis=-1)\n",
    "    # para debug:\n",
    "    # return (1/21) * np.sum((y_pred-y_true)**2, axis=-1)\n",
    "\n",
    "def custom_loss_pose(y_true, y_pred):\n",
    "    # en paper: loss = 1/3 * sum((ppredi-pi)^2)\n",
    "    # para entrenamiento:\n",
    "    return (1/3) * kb.sum(kb.square(y_pred-y_true), axis=-1)\n",
    "    # para debug:\n",
    "    # return (1/3) * np.sum((y_pred-y_true)**2, axis=-1)\n",
    "\n",
    "def custom_loss_landmarks(coord_true, coord_pred):    \n",
    "    # en paper: loss = 1/(2N) * Sum(vi*((xpredi-ai)^2 + (ypredi-bi)^2))\n",
    "    x_true_coord = coord_true[:,0:21]\n",
    "    y_true_coord = coord_true[:,21:42]\n",
    "    # viz_true = coord_true[:,42:63]  # produce errores en otros entornos (versión de keras?)\n",
    "    x_pred_coord = coord_pred[:,0:21]\n",
    "    y_pred_coord = coord_pred[:,21:42]\n",
    "    # para entrenamiento:\n",
    "    # return (1/(2*21)) * kb.sum(viz_true * (kb.square(x_pred_coord-x_true_coord) + K.square(y_pred_coord - y_true_coord)), axis=-1)\n",
    "    return (1/(2*21)) * kb.sum((kb.square(x_pred_coord-x_true_coord) + K.square(y_pred_coord - y_true_coord)), axis=-1)\n",
    "    # para debug:\n",
    "    # return (1/(2*21)) * np.sum(viz_true * ((x_pred_coord-x_true_coord)**2 + (y_pred_coord - y_true_coord)**2), axis=-1)\n",
    "\n",
    "def custom_mse_lm(y_true,y_pred):\n",
    "    return kb.sign(kb.sum(kb.abs(y_true),axis=-1))*kb.sum(kb.square(tf.multiply((kb.sign(y_true)+1)*0.5, y_true-y_pred)),axis=-1)/kb.sum((kb.sign(y_true)+1)*0.5,axis=-1)\n",
    "\n",
    "optimizer = Adam(lr=0.0001)\n",
    "hyperface.compile(optimizer=optimizer,\n",
    "                  loss={\n",
    "                      'face_nonface': 'categorical_crossentropy',\n",
    "                      'landmarks': custom_loss_landmarks,\n",
    "                      'visibility': custom_loss_visibility,\n",
    "                      'roll_pitch_yaw': custom_loss_pose,\n",
    "                      'male_female': 'categorical_crossentropy'},\n",
    "                  loss_weights={\n",
    "                      'face_nonface': 1,\n",
    "                      'landmarks': 1,\n",
    "                      'visibility': 1,\n",
    "                      'roll_pitch_yaw': 1,\n",
    "                      'male_female': 1})\n",
    "print(\"hyperface model compiled\")"
   ]
  },
  {
   "cell_type": "code",
   "execution_count": 8,
   "metadata": {
    "collapsed": false,
    "scrolled": false
   },
   "outputs": [
    {
     "name": "stdout",
     "output_type": "stream",
     "text": [
      "Building train/validation data generator...\n",
      "Found 2 positive samples and 2 negative samples.\n",
      "Start training...\n",
      "Epoch 1/5\n",
      "100/100 [==============================] - 3s - loss: 0.3608 - face_nonface_loss: 0.0174 - landmarks_loss: 0.1371 - visibility_loss: 0.0553 - roll_pitch_yaw_loss: 0.1507 - male_female_loss: 3.2234e-04     \n",
      "Epoch 2/5\n",
      "100/100 [==============================] - 3s - loss: 0.0585 - face_nonface_loss: 0.0029 - landmarks_loss: 0.0188 - visibility_loss: 0.0041 - roll_pitch_yaw_loss: 0.0327 - male_female_loss: 1.9663e-05     \n",
      "Epoch 3/5\n",
      "100/100 [==============================] - 3s - loss: 0.0216 - face_nonface_loss: 0.0011 - landmarks_loss: 0.0052 - visibility_loss: 0.0014 - roll_pitch_yaw_loss: 0.0140 - male_female_loss: 3.5753e-06     \n",
      "Epoch 4/5\n",
      "100/100 [==============================] - 3s - loss: 0.0090 - face_nonface_loss: 2.6323e-04 - landmarks_loss: 0.0017 - visibility_loss: 4.9901e-04 - roll_pitch_yaw_loss: 0.0065 - male_female_loss: 1.8367e-06     \n",
      "Epoch 5/5\n",
      "100/100 [==============================] - 3s - loss: 0.0040 - face_nonface_loss: 1.1742e-04 - landmarks_loss: 4.5866e-04 - visibility_loss: 2.4599e-04 - roll_pitch_yaw_loss: 0.0032 - male_female_loss: 8.1092e-07     \n"
     ]
    }
   ],
   "source": [
    "import hf\n",
    "\n",
    "print(\"Building train/validation data generator...\")\n",
    "\n",
    "# para corregir el problema de una imagen jpg no válida:\n",
    "# convert -resize 50% /home/lmiguel/Projects/datasets/aflw/aflw/data/flickr/3/image21068.jpg /home/lmiguel/Projects/datasets/aflw/aflw/data/flickr/3/image21068.jpg\n",
    "# convert -resize 200% /home/lmiguel/Projects/datasets/aflw/aflw/data/flickr/3/image21068.jpg /home/lmiguel/Projects/datasets/aflw/aflw/data/flickr/3/image21068.jpg\n",
    "json_dir = os.path.dirname(os.path.realpath('__file__')) # genérico\n",
    "\n",
    "train_data = hf.ImageDataGeneratorV2(samplewise_center=True,                                     \n",
    "                                     samplewise_std_normalization=True)\n",
    "train_data_flow = train_data.flow_from_directory(json_dir,\n",
    "                                                 'negatives5k-train.json', 'positives5k-train.json', \n",
    "                                                 # 'positives.json', 'negatives.json', \n",
    "                                                 pos_max_load_labels=12116, neg_max_load_labels=12116*3, #Número de negativos 454512\n",
    "                                                 output_type='hyperface', target_size=(227, 227),\n",
    "                                                 pos_batch_size=64, neg_batch_size=64)\n",
    "\n",
    "val_data = hf.ImageDataGeneratorV2(samplewise_center=True,            \n",
    "                                    samplewise_std_normalization=True)\n",
    "val_data_flow = val_data.flow_from_directory(json_dir, \n",
    "                                              'negatives5k-test.json', 'positives5k-test.json', \n",
    "                                              pos_max_load_labels=505, neg_max_load_labels=505*3, #Número de negativos 18938\n",
    "                                              output_type='hyperface', target_size=(227, 227),\n",
    "                                              pos_batch_size=64, neg_batch_size=64)\n",
    "\n",
    "# # checkpoint\n",
    "# filepath=\"weights-{epoch:02d}-{loss:.2f}.hdf5\"\n",
    "# checkpoint = ModelCheckpoint(filepath, monitor='train_loss', verbose=1, save_best_only=False, mode='min', period=30)\n",
    "# callbacks_list = [checkpoint]\n",
    "\n",
    "print(\"Start training...\")\n",
    "# history = hyperface.fit_generator(train_data_flow, steps_per_epoch=100, epochs=300, callbacks=callbacks_list)\n",
    "history = hyperface.fit_generator(generator=train_data_flow, \n",
    "                                   validation_data=val_data_flow,\n",
    "                                   validation_steps=100,\n",
    "                                  steps_per_epoch=100, epochs=5) \n",
    "#                                   steps_per_epoch=100, epochs=30)"
   ]
  },
  {
   "cell_type": "markdown",
   "metadata": {},
   "source": [
    "Predecir"
   ]
  },
  {
   "cell_type": "code",
   "execution_count": 9,
   "metadata": {
    "collapsed": false
   },
   "outputs": [
    {
     "name": "stdout",
     "output_type": "stream",
     "text": [
      "Found 2 positive samples and 2 negative samples.\n",
      "Predicciones: (face_nonface, landmarks, visibility, roll_pitch_yaw, male_female)\n",
      "face_nonface ground truth:\n",
      "[1 0]\n",
      "face_nonface predicted:\n",
      "[[  9.99896049e-01   1.03991566e-04]]\n",
      "\n",
      "landmarks ground truth:\n",
      "[-0.2704918  -0.17213115  0.00273224  0.14480874  0.21038251 -1.81693989\n",
      " -0.19398907 -0.1010929  -0.05191257 -1.81693989  0.1557377  -1.81693989\n",
      " -1.81693989 -0.06830601  0.12295082 -1.81693989 -1.81693989 -0.17213115\n",
      "  0.00819672 -1.81693989 -0.04644809 -0.3136646  -0.38819876 -0.32608696\n",
      " -0.30124224 -0.27639752 -0.59937888 -0.26397516 -0.26397516 -0.23291925\n",
      " -0.59937888 -0.18322981 -0.59937888 -0.59937888  0.02795031  0.02173913\n",
      " -0.59937888 -0.59937888  0.14596273  0.17080745 -0.59937888  0.44409938]\n",
      "landmarks predicted:\n",
      "[[-0.28080887 -0.18695293  0.005672    0.16222359  0.221444   -1.82775176\n",
      "  -0.18509698 -0.10352197 -0.05326626 -1.84291005  0.16400044 -1.82655728\n",
      "  -1.83404064 -0.05065612  0.12482188 -1.82384801 -1.82902491 -0.18534179\n",
      "  -0.0019758  -1.82659268 -0.03916674 -0.31576669 -0.39775622 -0.33913454\n",
      "  -0.30451676 -0.28307819 -0.6251902  -0.27568987 -0.2713398  -0.25139588\n",
      "  -0.58378732 -0.19671577 -0.57344294 -0.59810466  0.03717191  0.03525973\n",
      "  -0.61818218 -0.60269237  0.13436051  0.17963494 -0.60198748  0.43240952]]\n",
      "\n",
      "visibility ground truth:\n",
      "[ 1.  1.  1.  1.  1.  0.  1.  1.  1.  0.  1.  0.  0.  1.  1.  0.  0.  1.\n",
      "  1.  0.  1.]\n",
      "visibility predicted:\n",
      "[[ 0.9821701   0.98687452  0.98383904  0.98383224  0.9841727   0.01000969\n",
      "   0.98076874  0.98956072  0.98258948  0.00677984  0.98304445  0.0028725\n",
      "   0.00803579  0.98290676  0.9814949   0.00610287  0.01551899  0.9831714\n",
      "   0.98393202  0.00721117  0.98451644]]\n",
      "\n",
      "pose ground truth:\n",
      "[-0.12002859 -0.22056605 -0.40335208]\n",
      "pose predicted:\n",
      "[[-0.12361965 -0.19327033 -0.3982338 ]]\n",
      "\n",
      "gender ground truth:\n",
      "[0 1]\n",
      "gender predicted:\n",
      "[[  1.93119877e-06   9.99998093e-01]]\n",
      "\n"
     ]
    }
   ],
   "source": [
    "data_flow = train_data.flow_from_directory(json_dir,\n",
    "                                            'negatives5k-train.json', 'positives5k-train.json', \n",
    "                                            # 'positives.json', 'negatives.json', \n",
    "                                            pos_max_load_labels=12116, neg_max_load_labels=12116*3, #Número de negativos 454512\n",
    "                                            output_type='predict', target_size=(227, 227),\n",
    "                                            pos_batch_size=64, neg_batch_size=64)\n",
    "batch_x, batch_image, batch_bbox, batch_y_fnf, batch_y_landmarks, batch_y_visfac, batch_y_pose, batch_y_gender = data_flow.next()\n",
    "\n",
    "# DO NOT LOAD LIKE THIS, USE A REGION FIRST!\n",
    "# path = batch_image[0]\n",
    "# print(\"loading\", path)\n",
    "# img = image.load_img(path, target_size=(227, 227))\n",
    "# x = image.img_to_array(img)\n",
    "# x = train_data.standardize(x)\n",
    "# x = np.expand_dims(x, axis=0)\n",
    "\n",
    "subject = 0\n",
    "x = batch_x[subject]\n",
    "x = np.expand_dims(x, axis=0)\n",
    "\n",
    "preds = hyperface.predict(x)\n",
    "\n",
    "print('Predicciones: (face_nonface, landmarks, visibility, roll_pitch_yaw, male_female)')\n",
    "\n",
    "print('face_nonface ground truth:')\n",
    "print(batch_y_fnf[subject])\n",
    "print('face_nonface predicted:')\n",
    "print(preds[0])\n",
    "print()\n",
    "\n",
    "print('landmarks ground truth:')\n",
    "print(batch_y_landmarks[subject])\n",
    "print('landmarks predicted:')\n",
    "print(preds[1])\n",
    "print()\n",
    "\n",
    "print('visibility ground truth:')\n",
    "print(batch_y_visfac[subject])\n",
    "print('visibility predicted:')\n",
    "print(preds[2])\n",
    "print()\n",
    "\n",
    "print('pose ground truth:')\n",
    "print(batch_y_pose[subject])\n",
    "print('pose predicted:')\n",
    "print(preds[3])\n",
    "print()\n",
    "\n",
    "print('gender ground truth:')\n",
    "print(batch_y_gender[subject])\n",
    "print('gender predicted:')\n",
    "print(preds[4])\n",
    "print()"
   ]
  },
  {
   "cell_type": "code",
   "execution_count": 14,
   "metadata": {
    "collapsed": false
   },
   "outputs": [
    {
     "data": {
      "text/plain": [
       "<matplotlib.axes._subplots.AxesSubplot at 0x7f0298756b38>"
      ]
     },
     "execution_count": 14,
     "metadata": {},
     "output_type": "execute_result"
    },
    {
     "data": {
      "image/png": "[encoded data removed]",
      "text/plain": [
       "<matplotlib.figure.Figure at 0x7f02987560f0>"
      ]
     },
     "metadata": {},
     "output_type": "display_data"
    }
   ],
   "source": [
    "import pandas as pd\n",
    "import matplotlib.pyplot as plt\n",
    "%matplotlib inline\n",
    "df = pd.DataFrame(history.history)\n",
    "# df.plot(y=['loss', 'val_loss'], figsize=(16,4), title='Loss')\n",
    "# df.plot(y=['acc', 'val_acc'], figsize=(16,4), title='Accuracy')\n",
    "df.plot(y=['loss'], figsize=(12,4), title='Loss')\n",
    "# df"
   ]
  },
  {
   "cell_type": "code",
   "execution_count": null,
   "metadata": {
    "collapsed": true
   },
   "outputs": [],
   "source": [
    "import h5py\n",
    "hyperface.save_weights(\"hyperface.weights.h5\")\n",
    "\n",
    "model_yaml = hyperface.to_yaml()\n",
    "with open(\"hyperface.model.yaml\", \"w\") as yaml_file:\n",
    "    yaml_file.write(model_yaml)\n",
    "\n",
    "# throws json non serializable exception\n",
    "# model_json = hyperface.to_json()\n",
    "# with open(\"hyperface.model.json\", \"w\") as json_file:\n",
    "#     json_file.write(model_json)\n",
    "\n",
    "print(\"model written\")"
   ]
  },
  {
   "cell_type": "markdown",
   "metadata": {},
   "source": [
    "### Testing with a model without heads"
   ]
  },
  {
   "cell_type": "code",
   "execution_count": 11,
   "metadata": {
    "collapsed": false
   },
   "outputs": [
    {
     "name": "stdout",
     "output_type": "stream",
     "text": [
      "hyperface_faceposegender model compiled\n",
      "Found 2 positive samples and 2 negative samples.\n",
      "training...\n",
      "Epoch 1/5\n",
      "100/100 [==============================] - 3s - loss: 0.0188 - face_nonface_loss: 1.1951e-07 - roll_pitch_yaw_loss: 0.0188 - male_female_loss: 2.9802e-08     \n",
      "Epoch 2/5\n",
      "100/100 [==============================] - 3s - loss: 0.0188 - face_nonface_loss: 1.1921e-07 - roll_pitch_yaw_loss: 0.0188 - male_female_loss: 2.9802e-08     \n",
      "Epoch 3/5\n",
      "100/100 [==============================] - 3s - loss: 0.0188 - face_nonface_loss: 1.1921e-07 - roll_pitch_yaw_loss: 0.0188 - male_female_loss: 2.9802e-08     \n",
      "Epoch 4/5\n",
      "100/100 [==============================] - 3s - loss: 0.0188 - face_nonface_loss: 1.1921e-07 - roll_pitch_yaw_loss: 0.0188 - male_female_loss: 2.9802e-08     \n",
      "Epoch 5/5\n",
      "100/100 [==============================] - 3s - loss: 0.0188 - face_nonface_loss: 1.1921e-07 - roll_pitch_yaw_loss: 0.0188 - male_female_loss: 2.9802e-08     \n"
     ]
    }
   ],
   "source": [
    "hyperface_faceposegender = Model(inputs=model.input, outputs=[face_nonface, roll_pitch_yaw, male_female])\n",
    "optimizer = Adam(lr=0.0001)\n",
    "hyperface_faceposegender.compile(optimizer=optimizer,\n",
    "                  loss={\n",
    "                      'face_nonface': 'categorical_crossentropy',\n",
    "                      'roll_pitch_yaw': custom_loss_pose,\n",
    "                      'male_female': 'categorical_crossentropy'},\n",
    "                  loss_weights={\n",
    "                      'face_nonface': 1,\n",
    "                      'roll_pitch_yaw': 1,\n",
    "                      'male_female': 1})\n",
    "print(\"hyperface_faceposegender model compiled\")\n",
    "\n",
    "json_dir = os.path.dirname(os.path.realpath('__file__')) # genérico\n",
    "train_data = hf.ImageDataGeneratorV2(samplewise_center=True,                                     \n",
    "                                     samplewise_std_normalization=True)\n",
    "train_data_flow = train_data.flow_from_directory(json_dir,\n",
    "                                                 'positives.json3k', 'negatives.json3k', \n",
    "                                                 # 'positives.json', 'negatives.json', \n",
    "                                                 pos_max_load_labels=2, neg_max_load_labels=2,\n",
    "                                                 output_type='faceposegender', target_size=(227, 227),\n",
    "                                                 pos_batch_size=64, neg_batch_size=64)\n",
    "print(\"training...\")\n",
    "history = hyperface_faceposegender.fit_generator(generator=train_data_flow, \n",
    "                                  steps_per_epoch=100, epochs=5)"
   ]
  },
  {
   "cell_type": "markdown",
   "metadata": {},
   "source": [
    "Predecir"
   ]
  },
  {
   "cell_type": "code",
   "execution_count": 14,
   "metadata": {
    "collapsed": false
   },
   "outputs": [
    {
     "name": "stdout",
     "output_type": "stream",
     "text": [
      "Found 1 positive samples and 1 negative samples.\n",
      "Predicciones: (face_nonface, landmarks, visibility, roll_pitch_yaw, male_female)\n",
      "face_nonface ground truth:\n",
      "[1 0]\n",
      "face_nonface predicted:\n",
      "[[  9.86067116e-01   6.11221317e-12]]\n",
      "\n",
      "pose ground truth:\n",
      "[-0.12002859 -0.22056605 -0.40335208]\n",
      "pose predicted:\n",
      "[[  2.77214002e-10   3.17766813e-10   7.23532623e-11]]\n",
      "\n",
      "gender ground truth:\n",
      "[0 1]\n",
      "gender predicted:\n",
      "[[  6.42394287e-13   1.00000000e+00]]\n",
      "\n"
     ]
    }
   ],
   "source": [
    "data_flow = train_data.flow_from_directory(json_dir,\n",
    "                                           'positives.json3k', 'negatives.json3k', \n",
    "                                           # 'positives.json', 'negatives.json', \n",
    "                                           pos_max_load_labels=1, neg_max_load_labels=1,\n",
    "                                           output_type='predict', target_size=(227, 227),\n",
    "                                           pos_batch_size=64, neg_batch_size=64)\n",
    "batch_x, batch_image, batch_bbox, batch_y_fnf, batch_y_landmarks, batch_y_visfac, batch_y_pose, batch_y_gender = data_flow.next()\n",
    "\n",
    "# DO NOT LOAD LIKE THIS, USE A REGION FIRST!\n",
    "# path = batch_image[0]\n",
    "# print(\"loading\", path)\n",
    "# img = image.load_img(path, target_size=(227, 227))\n",
    "# x = image.img_to_array(img)\n",
    "# x = train_data.standardize(x)\n",
    "# x = np.expand_dims(x, axis=0)\n",
    "\n",
    "x = batch_x[0]\n",
    "x = np.expand_dims(x, axis=0)\n",
    "\n",
    "preds = hyperface_faceposegender.predict(x)\n",
    "\n",
    "print('Predicciones: (face_nonface, landmarks, visibility, roll_pitch_yaw, male_female)')\n",
    "\n",
    "print('face_nonface ground truth:')\n",
    "print(batch_y_fnf[0])\n",
    "print('face_nonface predicted:')\n",
    "print(preds[0])\n",
    "print()\n",
    "\n",
    "print('pose ground truth:')\n",
    "print(batch_y_pose[0])\n",
    "print('pose predicted:')\n",
    "print(preds[1])\n",
    "print()\n",
    "\n",
    "print('gender ground truth:')\n",
    "print(batch_y_gender[0])\n",
    "print('gender predicted:')\n",
    "print(preds[2])\n",
    "print()"
   ]
  },
  {
   "cell_type": "markdown",
   "metadata": {},
   "source": [
    "Testing SqueezeNet"
   ]
  },
  {
   "cell_type": "code",
   "execution_count": 3,
   "metadata": {
    "collapsed": false
   },
   "outputs": [
    {
     "name": "stdout",
     "output_type": "stream",
     "text": [
      "Predicted: [[('n02123045', 'tabby', 0.8085466), ('n02123159', 'tiger_cat', 0.14428307), ('n02124075', 'Egyptian_cat', 0.043808475), ('n02971356', 'carton', 0.0009396731), ('n02127052', 'lynx', 0.00060345326)]]\n"
     ]
    }
   ],
   "source": [
    "model = squeeze.SqueezeNet()\n",
    "\n",
    "path = '/home/lmiguel/Projects/datasets/coco/images/test2017/000000000665.jpg'\n",
    "img = image.load_img(path, target_size=(227, 227))\n",
    "x = image.img_to_array(img)\n",
    "x = np.expand_dims(x, axis=0)\n",
    "x = preprocess_input(x)\n",
    "\n",
    "preds = model.predict(x)\n",
    "print('Predicted:', decode_predictions(preds))"
   ]
  }
 ],
 "metadata": {
  "anaconda-cloud": {},
  "kernelspec": {
   "display_name": "Python [default]",
   "language": "python",
   "name": "python3"
  },
  "language_info": {
   "codemirror_mode": {
    "name": "ipython",
    "version": 3
   },
   "file_extension": ".py",
   "mimetype": "text/x-python",
   "name": "python",
   "nbconvert_exporter": "python",
   "pygments_lexer": "ipython3",
   "version": "3.5.2"
  }
 },
 "nbformat": 4,
 "nbformat_minor": 2
}
