{
 "cells": [
  {
   "cell_type": "code",
   "execution_count": null,
   "metadata": {
    "collapsed": true
   },
   "outputs": [],
   "source": [
    "#### PCA example from Veliz C. notes"
   ]
  },
  {
   "cell_type": "code",
   "execution_count": 3,
   "metadata": {},
   "outputs": [
    {
     "data": {
      "text/html": [
       "<table>\n",
       "<thead><tr><th scope=col>Mat</th><th scope=col>LLit</th><th scope=col>Fis</th><th scope=col>Est</th><th scope=col>Fil</th></tr></thead>\n",
       "<tbody>\n",
       "\t<tr><td>15</td><td>16</td><td>16</td><td>15</td><td>14</td></tr>\n",
       "\t<tr><td>17</td><td>14</td><td>15</td><td>16</td><td>16</td></tr>\n",
       "\t<tr><td>13</td><td>15</td><td>12</td><td>13</td><td>15</td></tr>\n",
       "\t<tr><td>18</td><td>16</td><td>17</td><td>17</td><td>15</td></tr>\n",
       "\t<tr><td>14</td><td>13</td><td>16</td><td>15</td><td>14</td></tr>\n",
       "\t<tr><td>18</td><td>16</td><td>17</td><td>16</td><td>15</td></tr>\n",
       "</tbody>\n",
       "</table>\n"
      ],
      "text/latex": [
       "\\begin{tabular}{r|lllll}\n",
       " Mat & LLit & Fis & Est & Fil\\\\\n",
       "\\hline\n",
       "\t 15 & 16 & 16 & 15 & 14\\\\\n",
       "\t 17 & 14 & 15 & 16 & 16\\\\\n",
       "\t 13 & 15 & 12 & 13 & 15\\\\\n",
       "\t 18 & 16 & 17 & 17 & 15\\\\\n",
       "\t 14 & 13 & 16 & 15 & 14\\\\\n",
       "\t 18 & 16 & 17 & 16 & 15\\\\\n",
       "\\end{tabular}\n"
      ],
      "text/markdown": [
       "\n",
       "Mat | LLit | Fis | Est | Fil | \n",
       "|---|---|---|---|---|---|\n",
       "| 15 | 16 | 16 | 15 | 14 | \n",
       "| 17 | 14 | 15 | 16 | 16 | \n",
       "| 13 | 15 | 12 | 13 | 15 | \n",
       "| 18 | 16 | 17 | 17 | 15 | \n",
       "| 14 | 13 | 16 | 15 | 14 | \n",
       "| 18 | 16 | 17 | 16 | 15 | \n",
       "\n",
       "\n"
      ],
      "text/plain": [
       "  Mat LLit Fis Est Fil\n",
       "1 15  16   16  15  14 \n",
       "2 17  14   15  16  16 \n",
       "3 13  15   12  13  15 \n",
       "4 18  16   17  17  15 \n",
       "5 14  13   16  15  14 \n",
       "6 18  16   17  16  15 "
      ]
     },
     "metadata": {},
     "output_type": "display_data"
    }
   ],
   "source": [
    "notas = read.csv(\"notas.csv\", sep=',')\n",
    "head(notas)"
   ]
  },
  {
   "cell_type": "code",
   "execution_count": 4,
   "metadata": {
    "collapsed": true
   },
   "outputs": [],
   "source": [
    "library(stats)"
   ]
  },
  {
   "cell_type": "code",
   "execution_count": 5,
   "metadata": {},
   "outputs": [
    {
     "data": {
      "text/plain": [
       "Standard deviations (1, .., p=5):\n",
       "[1] 2.6329026 2.1814789 1.3778789 0.7578506 0.5494316\n",
       "\n",
       "Rotation (n x k) = (5 x 5):\n",
       "           PC1         PC2        PC3         PC4        PC5\n",
       "Mat  0.6162996  0.37032067  0.5440909 -0.26796562  0.3394067\n",
       "LLit 0.1844356 -0.77422030  0.1218117 -0.57621699 -0.1403649\n",
       "Fis  0.4970166 -0.01346735 -0.7976660 -0.07269114  0.3335238\n",
       "Est  0.5314193  0.07904285 -0.0294354  0.25349279 -0.8038786\n",
       "Fil  0.2381730 -0.50696784  0.2280121  0.72568989  0.3280882"
      ]
     },
     "metadata": {},
     "output_type": "display_data"
    }
   ],
   "source": [
    "pca = prcomp(notas)\n",
    "pca"
   ]
  },
  {
   "cell_type": "code",
   "execution_count": 6,
   "metadata": {},
   "outputs": [
    {
     "data": {
      "text/plain": [
       "Importance of components%s:\n",
       "                          PC1    PC2    PC3    PC4     PC5\n",
       "Standard deviation     2.6329 2.1815 1.3779 0.7579 0.54943\n",
       "Proportion of Variance 0.4792 0.3290 0.1312 0.0397 0.02087\n",
       "Cumulative Proportion  0.4792 0.8082 0.9394 0.9791 1.00000"
      ]
     },
     "metadata": {},
     "output_type": "display_data"
    }
   ],
   "source": [
    "summary(pca)"
   ]
  },
  {
   "cell_type": "code",
   "execution_count": null,
   "metadata": {
    "collapsed": true
   },
   "outputs": [],
   "source": []
  }
 ],
 "metadata": {
  "kernelspec": {
   "display_name": "R",
   "language": "R",
   "name": "ir"
  },
  "language_info": {
   "codemirror_mode": "r",
   "file_extension": ".r",
   "mimetype": "text/x-r-source",
   "name": "R",
   "pygments_lexer": "r",
   "version": "3.4.1"
  }
 },
 "nbformat": 4,
 "nbformat_minor": 2
}
