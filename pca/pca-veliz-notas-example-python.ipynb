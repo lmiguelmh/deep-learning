{
 "cells": [
  {
   "cell_type": "code",
   "execution_count": 7,
   "metadata": {
    "collapsed": true
   },
   "outputs": [],
   "source": [
    "import numpy as np"
   ]
  },
  {
   "cell_type": "code",
   "execution_count": 8,
   "metadata": {},
   "outputs": [
    {
     "name": "stdout",
     "output_type": "stream",
     "text": [
      "(20, 5)\n"
     ]
    }
   ],
   "source": [
    "X = np.array([\n",
    "    [15,16,16,15,14],\n",
    "    [17,14,15,16,16],\n",
    "    [13,15,12,13,15],\n",
    "    [18,16,17,17,15],\n",
    "    [14,13,16,15,14],\n",
    "    [18,16,17,16,15],\n",
    "    [15,14,14,14,14],\n",
    "    [16,11,12,14,12],\n",
    "    [17,16,13,15,15],\n",
    "    [18,12,14,15,13],\n",
    "    [12,13,15,13,12],\n",
    "    [13,16,12,13,15],\n",
    "    [14,17,17,16,16],\n",
    "    [12,18,13,13,17],\n",
    "    [13,15,12,12,14],\n",
    "    [14,16,13,13,13],\n",
    "    [16,17,15,15,16],\n",
    "    [16,15,15,16,16],\n",
    "    [15,14,14,16,13],\n",
    "    [17,17,14,17,16]]);\n",
    "print(X.shape)    "
   ]
  },
  {
   "cell_type": "markdown",
   "metadata": {},
   "source": [
    "##### Computing PCA using sklearn"
   ]
  },
  {
   "cell_type": "code",
   "execution_count": 19,
   "metadata": {},
   "outputs": [
    {
     "name": "stdout",
     "output_type": "stream",
     "text": [
      "eigenvalues o λ (magnitud de vectores)\n",
      "[ 6.93217635  4.75885015  1.89855029  0.5743376   0.30187509]\n",
      "eigenvector o v (dirección de vector o vector unidad) - transpuesto\n",
      "[[ 0.61629956  0.1844356   0.4970166   0.53141929  0.23817305]\n",
      " [-0.37032067  0.7742203   0.01346735 -0.07904285  0.50696784]\n",
      " [-0.54409094 -0.12181173  0.79766596  0.0294354  -0.2280121 ]\n",
      " [ 0.26796562  0.57621699  0.07269114 -0.25349279 -0.72568989]\n",
      " [-0.33940672  0.14036494 -0.33352382  0.80387856 -0.32808823]]\n",
      "\n",
      "[ 0.47921175  0.32897272  0.13124415  0.03970316  0.02086821]\n",
      "[ 11.47655657   9.50884603   6.00603492   3.30339437   2.39491684]\n"
     ]
    }
   ],
   "source": [
    "from sklearn.decomposition import PCA\n",
    "pca = PCA(n_components=5)\n",
    "pca.fit(X)\n",
    "print(\"eigenvalues o λ (magnitud de vectores)\")\n",
    "print(pca.explained_variance_ )\n",
    "print(\"eigenvector o v (dirección de vector o vector unidad) - transpuesto\")\n",
    "print(pca.components_)\n",
    "print()\n",
    "print(pca.explained_variance_ratio_)\n",
    "print(pca.singular_values_)"
   ]
  },
  {
   "cell_type": "markdown",
   "metadata": {},
   "source": [
    "#### Computing PCA using covariance method"
   ]
  },
  {
   "cell_type": "code",
   "execution_count": 20,
   "metadata": {},
   "outputs": [
    {
     "name": "stdout",
     "output_type": "stream",
     "text": [
      "covariance matrix\n",
      "[[ 3.92368421 -0.37631579  1.32105263  2.25789474  0.28157895]\n",
      " [-0.37631579  3.31315789  0.51052632  0.33157895  1.97105263]\n",
      " [ 1.32105263  0.51052632  2.95789474  1.77894737  0.51052632]\n",
      " [ 2.25789474  0.33157895  1.77894737  2.22105263  0.7       ]\n",
      " [ 0.28157895  1.97105263  0.51052632  0.7         2.05      ]]\n",
      "eigenvalues o λ (magnitud de vectores)\n",
      "[ 6.93217635  4.75885015  1.89855029  0.30187509  0.5743376 ]\n",
      "[ 0.47921175  0.80818448  0.93942863  0.96029684  1.        ]  (% acum)\n",
      "eigenvector o v (dirección de vector o vector unidad)\n",
      "[[-0.61629956  0.37032067 -0.54409094 -0.33940672 -0.26796562]\n",
      " [-0.1844356  -0.7742203  -0.12181173  0.14036494 -0.57621699]\n",
      " [-0.4970166  -0.01346735  0.79766596 -0.33352382 -0.07269114]\n",
      " [-0.53141929  0.07904285  0.0294354   0.80387856  0.25349279]\n",
      " [-0.23817305 -0.50696784 -0.2280121  -0.32808823  0.72568989]]\n"
     ]
    }
   ],
   "source": [
    "n,p = X.shape\n",
    "\n",
    "# computing PCA using covariance method (see wikipedia)\n",
    "u = np.mean(X, axis=0)\n",
    "h = np.ones((n,1))\n",
    "M = X - h * u.T \n",
    "S = np.cov(M.T)\n",
    "_lambda,_v = np.linalg.eig(S)\n",
    "\n",
    "print(\"covariance matrix\")\n",
    "print(S)\n",
    "\n",
    "print(\"eigenvalues o λ (magnitud de vectores)\")\n",
    "print(_lambda)\n",
    "print(np.cumsum(_lambda)/sum(_lambda), \" (% acum)\") \n",
    "\n",
    "print(\"eigenvector o v (dirección de vector o vector unidad)\")\n",
    "print(_v)"
   ]
  },
  {
   "cell_type": "code",
   "execution_count": null,
   "metadata": {
    "collapsed": true
   },
   "outputs": [],
   "source": []
  }
 ],
 "metadata": {
  "kernelspec": {
   "display_name": "Python 3",
   "language": "python",
   "name": "python3"
  },
  "language_info": {
   "codemirror_mode": {
    "name": "ipython",
    "version": 3
   },
   "file_extension": ".py",
   "mimetype": "text/x-python",
   "name": "python",
   "nbconvert_exporter": "python",
   "pygments_lexer": "ipython3",
   "version": "3.5.2"
  }
 },
 "nbformat": 4,
 "nbformat_minor": 2
}
