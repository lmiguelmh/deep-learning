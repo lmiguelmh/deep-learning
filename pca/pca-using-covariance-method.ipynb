{
 "cells": [
  {
   "cell_type": "markdown",
   "metadata": {
    "collapsed": true
   },
   "source": [
    "### Comuting PCA using the covariance method"
   ]
  },
  {
   "cell_type": "code",
   "execution_count": 1,
   "metadata": {},
   "outputs": [
    {
     "name": "stdout",
     "output_type": "stream",
     "text": [
      "(150, 4)\n",
      "(150,)\n"
     ]
    }
   ],
   "source": [
    "import numpy as np\n",
    "from sklearn.datasets import load_iris\n",
    "from sklearn.decomposition import PCA\n",
    "from sklearn.utils.extmath import fast_dot\n",
    "from numpy import mean,cov,double,cumsum,dot,linalg,array,rank\n",
    "\n",
    "iris = load_iris()\n",
    "X = iris.data\n",
    "print(X.shape)\n",
    "y = iris.target\n",
    "print(y.shape)"
   ]
  },
  {
   "cell_type": "code",
   "execution_count": 31,
   "metadata": {},
   "outputs": [
    {
     "name": "stdout",
     "output_type": "stream",
     "text": [
      "Magnitud de los vectores (λ):\n",
      "[ 4.22484077  0.24224357  0.07852391  0.02368303]\n",
      "Transpuesta de la Dirección de cada vector (v): (algunas cambiaron signo) \n",
      "[[ 0.36158968 -0.08226889  0.85657211  0.35884393]\n",
      " [ 0.65653988  0.72971237 -0.1757674  -0.07470647]\n",
      " [-0.58099728  0.59641809  0.07252408  0.54906091]\n",
      " [ 0.31725455 -0.32409435 -0.47971899  0.75112056]]\n",
      "\n",
      "[ 0.92461621  0.05301557  0.01718514  0.00518309]\n",
      "[ 25.08986398   6.00785254   3.42053538   1.87850234]\n"
     ]
    }
   ],
   "source": [
    "# http://scikit-learn.org/stable/modules/generated/sklearn.decomposition.PCA.html\n",
    "pca = PCA(n_components=4)\n",
    "pca.fit(X)\n",
    "print(\"Magnitud de los vectores (λ):\")\n",
    "print(pca.explained_variance_ )\n",
    "print(\"Transpuesta de la Dirección de cada vector (v): (algunas cambiaron signo) \")\n",
    "print(pca.components_)\n",
    "print()\n",
    "print(pca.explained_variance_ratio_)\n",
    "print(pca.singular_values_)\n"
   ]
  },
  {
   "cell_type": "code",
   "execution_count": 9,
   "metadata": {},
   "outputs": [
    {
     "name": "stdout",
     "output_type": "stream",
     "text": [
      "Covariance Matrix:\n",
      "[[ 0.68569351 -0.03926846  1.27368233  0.5169038 ]\n",
      " [-0.03926846  0.18800403 -0.32171275 -0.11798121]\n",
      " [ 1.27368233 -0.32171275  3.11317942  1.29638747]\n",
      " [ 0.5169038  -0.11798121  1.29638747  0.58241432]]\n",
      " > solve this matrix (diagonalize)\n"
     ]
    }
   ],
   "source": [
    "# https://en.wikipedia.org/wiki/Principal_component_analysis#Computing_PCA_using_the_covariance_method\n",
    "\n",
    "# 1. Organize the data set\n",
    "n = 150\n",
    "p = 4\n",
    "X.shape  # 150x4 ~ n x p\n",
    "\n",
    "# 2. Calculate the empirical mean\n",
    "mean = X.mean(axis=0) \n",
    "mean.shape  # p x 1 ~ 4 x 1\n",
    "\n",
    "# 3. Calculate the deviations from the mean\n",
    "h = np.ones((n,1))\n",
    "B = X - h * mean.T\n",
    "B.shape  # 150x4 ~ n x p\n",
    "\n",
    "# 4. Find the covariance matrix\n",
    "C = (1/(n-1))*B.T.dot(B)  # n-1 because Bessel's correction\n",
    "print(\"Covariance Matrix:\")\n",
    "print(C)\n",
    "print(\" > solve this matrix (diagonalize)\")\n"
   ]
  },
  {
   "cell_type": "code",
   "execution_count": 19,
   "metadata": {},
   "outputs": [
    {
     "name": "stdout",
     "output_type": "stream",
     "text": [
      "Using numpy to compute Covariance Matrix:\n",
      "[[ 0.68569351 -0.03926846  1.27368233  0.5169038 ]\n",
      " [-0.03926846  0.18800403 -0.32171275 -0.11798121]\n",
      " [ 1.27368233 -0.32171275  3.11317942  1.29638747]\n",
      " [ 0.5169038  -0.11798121  1.29638747  0.58241432]]\n"
     ]
    }
   ],
   "source": [
    "print(\"Using numpy to compute Covariance Matrix:\")\n",
    "u = mean(X, axis=0)\n",
    "u.shape  # 4 x 1\n",
    "h = np.ones((n,1))\n",
    "M = X - h * u.T  # 150x4\n",
    "S = cov(M.T) \n",
    "print(S)"
   ]
  },
  {
   "cell_type": "code",
   "execution_count": 32,
   "metadata": {},
   "outputs": [
    {
     "name": "stdout",
     "output_type": "stream",
     "text": [
      "Magnitud de los vectores (λ):\n",
      "[ 4.22484077  0.24224357  0.07852391  0.02368303]\n",
      "Dirección de cada vector (v):\n",
      "[[ 0.36158968 -0.65653988 -0.58099728  0.31725455]\n",
      " [-0.08226889 -0.72971237  0.59641809 -0.32409435]\n",
      " [ 0.85657211  0.1757674   0.07252408 -0.47971899]\n",
      " [ 0.35884393  0.07470647  0.54906091  0.75112056]]\n"
     ]
    }
   ],
   "source": [
    "# 5. Solve linear equation (find eigenvalues, eigenvectors)\n",
    "# beware of error theor. e-values are 1 +/- 1e-9\n",
    "[latent,coef] = linalg.eig(S)\n",
    "print(\"Magnitud de los vectores (λ):\")\n",
    "print(latent)\n",
    "print(\"Dirección de cada vector (v):\")\n",
    "print(coef)\n",
    "\n",
    "# 6. Reorder λ & v in decreasing order\n",
    "_lambda = latent\n",
    "\n",
    "# score = dot(coeff.T,M) # projection of the data in the new space\n",
    "# return coeff,score,latent"
   ]
  },
  {
   "cell_type": "code",
   "execution_count": 36,
   "metadata": {
    "scrolled": true
   },
   "outputs": [
    {
     "name": "stdout",
     "output_type": "stream",
     "text": [
      "PC1 total variation:  0.924616207174\n",
      "PC1,PC2 total variation:  0.977631775025\n"
     ]
    }
   ],
   "source": [
    "print(\"PC1 total variation: \", _lambda[0]/sum(_lambda))\n",
    "print(\"PC1,PC2 total variation: \", (_lambda[0]+_lambda[1])/sum(_lambda))"
   ]
  },
  {
   "cell_type": "markdown",
   "metadata": {},
   "source": [
    "#### A simple example based on https://glowingpython.blogspot.pe/2011/07/principal-component-analysis-with-numpy.html"
   ]
  },
  {
   "cell_type": "code",
   "execution_count": 84,
   "metadata": {},
   "outputs": [
    {
     "name": "stdout",
     "output_type": "stream",
     "text": [
      "eigenvalues (magnitud de vectores)\n",
      "[ 1.28402771  0.0490834 ]\n",
      "[ 0.96318131  1.        ]  (% cumulativo)\n",
      "eigenvector (dirección de vector o vector unidad)\n",
      "[[ 0.73517866 -0.6778734 ]\n",
      " [ 0.6778734   0.73517866]]\n",
      "P = X'*v  (nuevos valores) OJO: X' = X-u\n",
      "[[ 0.82797019  0.17511531]\n",
      " [-1.77758033 -0.14285723]\n",
      " [ 0.99219749 -0.38437499]\n",
      " [ 0.27421042 -0.13041721]\n",
      " [ 1.67580142  0.20949846]\n",
      " [ 0.9129491  -0.17528244]\n",
      " [-0.09910944  0.3498247 ]\n",
      " [-1.14457216 -0.04641726]\n",
      " [-0.43804614 -0.01776463]\n",
      " [-1.22382056  0.16267529]]\n"
     ]
    }
   ],
   "source": [
    "A = array([ [2.4,0.7,2.9,2.2,3.0,2.7,1.6,1.1,1.6,0.9],\n",
    "            [2.5,0.5,2.2,1.9,3.1,2.3,2,1,1.5,1.1] ])\n",
    "A = A.T\n",
    "n,p = A.shape\n",
    "\n",
    "# computing PCA using covariance method (see wikipedia)\n",
    "u = mean(A, axis=0)\n",
    "h = np.ones((n,1))\n",
    "M = A - h * u.T \n",
    "S = cov(M.T) \n",
    "_lambda,_v = linalg.eig(S)\n",
    "print(\"eigenvalues (magnitud de vectores)\")\n",
    "print(_lambda)\n",
    "print(cumsum(_lambda)/sum(_lambda), \" (% cumulativo)\") \n",
    "\n",
    "print(\"eigenvector (dirección de vector o vector unidad)\")\n",
    "print(_v)\n",
    "\n",
    "P = M.dot(_v)\n",
    "print(\"P = X'*v  (nuevos valores) OJO: X' = X-u\")\n",
    "print(P)"
   ]
  },
  {
   "cell_type": "code",
   "execution_count": 89,
   "metadata": {},
   "outputs": [
    {
     "data": {
      "text/plain": [
       "(-0.040249412476677515,\n",
       " 3.7584705058407883,\n",
       " 1.0482329315455878,\n",
       " 2.8938936699264)"
      ]
     },
     "execution_count": 89,
     "metadata": {},
     "output_type": "execute_result"
    },
    {
     "data": {
      "image/png": "[encoded data removed]",
      "text/plain": [
       "<matplotlib.figure.Figure at 0x2545fd042e8>"
      ]
     },
     "metadata": {},
     "output_type": "display_data"
    },
    {
     "data": {
      "image/png": "[encoded data removed]",
      "text/plain": [
       "<matplotlib.figure.Figure at 0x2546087d358>"
      ]
     },
     "metadata": {},
     "output_type": "display_data"
    },
    {
     "data": {
      "image/png": "[encoded data removed]",
      "text/plain": [
       "<matplotlib.figure.Figure at 0x25461acba90>"
      ]
     },
     "metadata": {},
     "output_type": "display_data"
    }
   ],
   "source": [
    "%matplotlib inline\n",
    "from pylab import plot,subplot,axis,stem,show,figure,title,legend\n",
    "\n",
    "figure()\n",
    "title(\"axis of different proportions\")\n",
    "plot(A[:,0], A[:,1], 'ob')\n",
    "plot([0,_v[0,0]]+u[0], [0,_v[0,1]]+u[1], '--k')\n",
    "plot([0,_v[1,0]]+u[0], [0,_v[1,1]]+u[1], '--k')\n",
    "\n",
    "\n",
    "figure()\n",
    "title(\"axis of same proportion\")\n",
    "plot(A[:,0], A[:,1], 'ob')\n",
    "# vector unidad: (0,0) -> (_v[0,0], _v[0,1]) \n",
    "plot([0,_v[0,0]]+u[0], [0,_v[0,1]]+u[1], '--k', label='v or unit vector')\n",
    "# vector unidad: (0,0) -> (_v[1,0], _v[1,1]) \n",
    "plot([0,_v[1,0]]+u[0], [0,_v[1,1]]+u[1], '--k')\n",
    "#\n",
    "plot([0,_v[0,0]*_lambda[0]]+u[0], [0,_v[0,1]*_lambda[0]]+u[1], ':r', label='v*lambda')\n",
    "plot([0,_v[1,0]*_lambda[1]]+u[0], [0,_v[1,1]*_lambda[1]]+u[1], ':r')\n",
    "legend()\n",
    "axis('equal')  # KEY: axis must be of the same proportion\n",
    "\n",
    "\n",
    "figure()\n",
    "title(\"applying principal components\")\n",
    "# plot(P[:,0], P[:,1], 'or', label='P = X*v')\n",
    "plot(P[:,0] + u[0], P[:,1] + u[1], 'xr', label=\"P = X'*v + u, where X'=X-u\")\n",
    "# vector unidad: (0,0) -> (_v[0,0] + u[0], _v[0,1] + u[1]) \n",
    "plot([0,_v[0,0]]+u[0], [0,_v[0,1]]+u[1], '--k', label='v or unit vector')\n",
    "# vector unidad: (0,0) -> (_v[1,0] + u[0], _v[1,1] + u[1]) \n",
    "plot([0,_v[1,0]]+u[0], [0,_v[1,1]]+u[1], '--k')\n",
    "_vr = _v.T.dot(_v)\n",
    "plot([0,_vr[0,0]]+u[0], [0,_vr[0,1]]+u[1], ':r', label=\"vr = v' * v\")\n",
    "plot([0,_vr[1,0]]+u[0], [0,_vr[1,1]]+u[1], ':r')\n",
    "legend()\n",
    "axis('equal')  # KEY: axis must be of the same proportion\n"
   ]
  }
 ],
 "metadata": {
  "kernelspec": {
   "display_name": "Python 3",
   "language": "python",
   "name": "python3"
  },
  "language_info": {
   "codemirror_mode": {
    "name": "ipython",
    "version": 3
   },
   "file_extension": ".py",
   "mimetype": "text/x-python",
   "name": "python",
   "nbconvert_exporter": "python",
   "pygments_lexer": "ipython3",
   "version": "3.6.1"
  }
 },
 "nbformat": 4,
 "nbformat_minor": 2
}
