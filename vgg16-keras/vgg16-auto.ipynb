{
 "cells": [
  {
   "cell_type": "markdown",
   "metadata": {},
   "source": [
    "### Training the bottleneck features of VGG16 \n",
    "##### Keras with Tensorflow backend (channel_last configuration)\n",
    "Based on:\n",
    "- https://blog.keras.io/building-powerful-image-classification-models-using-very-little-data.html \n",
    "- https://gist.github.com/fchollet/f35fbc80e066a49d65f1688a7e99f069 \n",
    "\n",
    "We first train the `top_model`, this model will receive as input the outputs of the last convolutional layer of VGG16. Once we train the `top_model` we will combine it with `vgg_model` in a single model, and we will re-train this single model with the layers of VGG frozen."
   ]
  },
  {
   "cell_type": "markdown",
   "metadata": {},
   "source": [
    "### 0. Donwload the data sets and prepare the data\n",
    "A dataset of cats and dogs from an old kaggle competition:\n",
    "- https://www.kaggle.com/c/dogs-vs-cats/data\n",
    "\n",
    "Copy 2000/800 validation/training images in the next folder structure\n",
    "- data\n",
    "  - train\n",
    "    - cats\n",
    "      - 1000 cats\n",
    "    - dogs\n",
    "      - 1000 dogs\n",
    "  - validation\n",
    "    - cats\n",
    "      - 400 cats\n",
    "    - dogs\n",
    "      - 400 dogs"
   ]
  },
  {
   "cell_type": "code",
   "execution_count": 1,
   "metadata": {},
   "outputs": [
    {
     "name": "stderr",
     "output_type": "stream",
     "text": [
      "Using TensorFlow backend.\n"
     ]
    }
   ],
   "source": [
    "import numpy as np\n",
    "from keras.preprocessing.image import ImageDataGenerator\n",
    "from keras.models import Sequential\n",
    "from keras.layers import Dropout, Flatten, Dense\n",
    "from keras import applications\n",
    "import time"
   ]
  },
  {
   "cell_type": "code",
   "execution_count": 2,
   "metadata": {
    "collapsed": true
   },
   "outputs": [],
   "source": [
    "# dimensions of our images.\n",
    "img_width, img_height = 150, 150\n",
    "\n",
    "top_model_weights_path = 'bottleneck_fc_model.h5'\n",
    "train_data_dir = 'data/train'\n",
    "validation_data_dir = 'data/validation'\n",
    "nb_train_samples = 2000\n",
    "nb_validation_samples = 800\n",
    "epochs = 50\n",
    "batch_size = 16"
   ]
  },
  {
   "cell_type": "markdown",
   "metadata": {},
   "source": [
    "### 1. Calculate the inputs for the `top_model` (_bottleneck features_)\n",
    "The inputs for the `top_model` or _bottleneck features_ will be the output of the last convolutional layer of VGG16. So we first use VGG16 to make the predictions on the training and validation sets."
   ]
  },
  {
   "cell_type": "code",
   "execution_count": 3,
   "metadata": {},
   "outputs": [
    {
     "name": "stdout",
     "output_type": "stream",
     "text": [
      "Found 2000 images belonging to 2 classes.\n",
      "125/125 [==============================] - 351s   \n",
      "ellapsed time in seconds: 351.3123679161072\n",
      "Found 800 images belonging to 2 classes.\n",
      "50/50 [==============================] - 140s   \n",
      "ellapsed time in seconds: 140.320405960083\n"
     ]
    }
   ],
   "source": [
    "datagen = ImageDataGenerator(rescale=1. / 255)\n",
    "# build the VGG16 network\n",
    "model = applications.VGG16(include_top=False, weights='imagenet')\n",
    "\n",
    "generator = datagen.flow_from_directory(\n",
    "    train_data_dir,\n",
    "    target_size=(img_width, img_height),\n",
    "    batch_size=batch_size,\n",
    "    class_mode=None,\n",
    "    shuffle=False)\n",
    "\n",
    "start = time.time()\n",
    "bottleneck_features_train = model.predict_generator(\n",
    "    generator, nb_train_samples // batch_size, verbose=1)\n",
    "np.save(open('bottleneck_features_train.npy', 'wb'),\n",
    "        bottleneck_features_train)\n",
    "print(\"ellapsed time in seconds:\", (time.time()-start))\n",
    "\n",
    "\n",
    "generator = datagen.flow_from_directory(\n",
    "    validation_data_dir,\n",
    "    target_size=(img_width, img_height),\n",
    "    batch_size=batch_size,\n",
    "    class_mode=None,\n",
    "    shuffle=False)\n",
    "\n",
    "start = time.time()\n",
    "bottleneck_features_validation = model.predict_generator(\n",
    "    generator, nb_validation_samples // batch_size, verbose=1)\n",
    "np.save(open('bottleneck_features_validation.npy', 'wb'),\n",
    "        bottleneck_features_validation)\n",
    "print(\"ellapsed time in seconds:\", (time.time()-start))"
   ]
  },
  {
   "cell_type": "markdown",
   "metadata": {},
   "source": [
    "### 2. Build and train the `top_model`\n",
    "The input is the bottleneck features (results of the last conv layer of VGG16) from the previous step. Why we need to train the `top_model` separately? Because we need the weights. This is pointed in the article:\n",
    "\n",
    "> in order to perform fine-tuning, all layers should start with properly trained weights: for instance you should not slap a randomly initialized fully-connected network on top of a pre-trained convolutional base. This is because the large gradient updates triggered by the randomly initialized weights would wreck the learned weights in the convolutional base. In our case this is why we first train the top-level classifier, and only then start fine-tuning convolutional weights alongside it."
   ]
  },
  {
   "cell_type": "code",
   "execution_count": 4,
   "metadata": {},
   "outputs": [
    {
     "name": "stdout",
     "output_type": "stream",
     "text": [
      "Train on 2000 samples, validate on 800 samples\n",
      "Epoch 1/50\n",
      "2000/2000 [==============================] - 2s - loss: 0.6822 - acc: 0.7595 - val_loss: 0.3133 - val_acc: 0.8775\n",
      "Epoch 2/50\n",
      "2000/2000 [==============================] - 2s - loss: 0.3730 - acc: 0.8485 - val_loss: 0.5104 - val_acc: 0.8037\n",
      "Epoch 3/50\n",
      "2000/2000 [==============================] - 2s - loss: 0.3042 - acc: 0.8835 - val_loss: 0.3107 - val_acc: 0.8875\n",
      "Epoch 4/50\n",
      "2000/2000 [==============================] - 2s - loss: 0.2518 - acc: 0.8995 - val_loss: 0.3535 - val_acc: 0.8838\n",
      "Epoch 5/50\n",
      "2000/2000 [==============================] - 2s - loss: 0.2178 - acc: 0.9150 - val_loss: 0.8522 - val_acc: 0.7950\n",
      "Epoch 6/50\n",
      "2000/2000 [==============================] - 2s - loss: 0.2046 - acc: 0.9290 - val_loss: 0.5013 - val_acc: 0.8438\n",
      "Epoch 7/50\n",
      "2000/2000 [==============================] - 3s - loss: 0.1785 - acc: 0.9390 - val_loss: 0.3866 - val_acc: 0.8850\n",
      "Epoch 8/50\n",
      "2000/2000 [==============================] - 2s - loss: 0.1758 - acc: 0.9400 - val_loss: 0.3948 - val_acc: 0.8962\n",
      "Epoch 9/50\n",
      "2000/2000 [==============================] - 2s - loss: 0.1245 - acc: 0.9545 - val_loss: 0.6494 - val_acc: 0.8425\n",
      "Epoch 10/50\n",
      "2000/2000 [==============================] - 3s - loss: 0.1099 - acc: 0.9550 - val_loss: 0.5645 - val_acc: 0.8600\n",
      "Epoch 11/50\n",
      "2000/2000 [==============================] - 3s - loss: 0.1295 - acc: 0.9505 - val_loss: 0.6574 - val_acc: 0.8525\n",
      "Epoch 12/50\n",
      "2000/2000 [==============================] - 2s - loss: 0.1120 - acc: 0.9575 - val_loss: 0.6611 - val_acc: 0.8600\n",
      "Epoch 13/50\n",
      "2000/2000 [==============================] - 2s - loss: 0.0908 - acc: 0.9640 - val_loss: 0.5507 - val_acc: 0.8838\n",
      "Epoch 14/50\n",
      "2000/2000 [==============================] - 2s - loss: 0.0915 - acc: 0.9675 - val_loss: 0.5762 - val_acc: 0.8838\n",
      "Epoch 15/50\n",
      "2000/2000 [==============================] - 2s - loss: 0.0739 - acc: 0.9700 - val_loss: 0.5916 - val_acc: 0.8912\n",
      "Epoch 16/50\n",
      "2000/2000 [==============================] - 2s - loss: 0.0656 - acc: 0.9760 - val_loss: 0.6430 - val_acc: 0.8850\n",
      "Epoch 17/50\n",
      "2000/2000 [==============================] - 2s - loss: 0.0707 - acc: 0.9765 - val_loss: 0.6494 - val_acc: 0.8962\n",
      "Epoch 18/50\n",
      "2000/2000 [==============================] - 2s - loss: 0.0587 - acc: 0.9815 - val_loss: 0.6899 - val_acc: 0.8825\n",
      "Epoch 19/50\n",
      "2000/2000 [==============================] - 2s - loss: 0.0459 - acc: 0.9785 - val_loss: 0.7824 - val_acc: 0.8750\n",
      "Epoch 20/50\n",
      "2000/2000 [==============================] - 2s - loss: 0.0413 - acc: 0.9855 - val_loss: 0.7872 - val_acc: 0.8875\n",
      "Epoch 21/50\n",
      "2000/2000 [==============================] - 2s - loss: 0.0437 - acc: 0.9860 - val_loss: 0.8395 - val_acc: 0.8850\n",
      "Epoch 22/50\n",
      "2000/2000 [==============================] - 2s - loss: 0.0351 - acc: 0.9885 - val_loss: 1.0080 - val_acc: 0.8462\n",
      "Epoch 23/50\n",
      "2000/2000 [==============================] - 2s - loss: 0.0357 - acc: 0.9875 - val_loss: 0.8517 - val_acc: 0.8888\n",
      "Epoch 24/50\n",
      "2000/2000 [==============================] - 2s - loss: 0.0324 - acc: 0.9875 - val_loss: 0.8433 - val_acc: 0.8838\n",
      "Epoch 25/50\n",
      "2000/2000 [==============================] - 2s - loss: 0.0400 - acc: 0.9860 - val_loss: 0.9198 - val_acc: 0.8762\n",
      "Epoch 26/50\n",
      "2000/2000 [==============================] - 2s - loss: 0.0336 - acc: 0.9885 - val_loss: 0.8742 - val_acc: 0.8812\n",
      "Epoch 27/50\n",
      "2000/2000 [==============================] - 2s - loss: 0.0258 - acc: 0.9895 - val_loss: 1.0065 - val_acc: 0.8750\n",
      "Epoch 28/50\n",
      "2000/2000 [==============================] - 2s - loss: 0.0313 - acc: 0.9905 - val_loss: 0.8842 - val_acc: 0.8800\n",
      "Epoch 29/50\n",
      "2000/2000 [==============================] - 2s - loss: 0.0181 - acc: 0.9950 - val_loss: 0.9837 - val_acc: 0.8850\n",
      "Epoch 30/50\n",
      "2000/2000 [==============================] - 2s - loss: 0.0159 - acc: 0.9940 - val_loss: 0.9792 - val_acc: 0.8825\n",
      "Epoch 31/50\n",
      "2000/2000 [==============================] - 2s - loss: 0.0382 - acc: 0.9890 - val_loss: 0.9282 - val_acc: 0.8800\n",
      "Epoch 32/50\n",
      "2000/2000 [==============================] - 2s - loss: 0.0248 - acc: 0.9940 - val_loss: 0.9274 - val_acc: 0.8838\n",
      "Epoch 33/50\n",
      "2000/2000 [==============================] - 2s - loss: 0.0137 - acc: 0.9955 - val_loss: 1.0006 - val_acc: 0.8775\n",
      "Epoch 34/50\n",
      "2000/2000 [==============================] - 2s - loss: 0.0204 - acc: 0.9940 - val_loss: 0.9681 - val_acc: 0.8850\n",
      "Epoch 35/50\n",
      "2000/2000 [==============================] - 2s - loss: 0.0191 - acc: 0.9945 - val_loss: 0.9823 - val_acc: 0.8812\n",
      "Epoch 36/50\n",
      "2000/2000 [==============================] - 2s - loss: 0.0131 - acc: 0.9960 - val_loss: 0.9985 - val_acc: 0.8800\n",
      "Epoch 37/50\n",
      "2000/2000 [==============================] - 2s - loss: 0.0274 - acc: 0.9935 - val_loss: 1.0211 - val_acc: 0.8862\n",
      "Epoch 38/50\n",
      "2000/2000 [==============================] - 2s - loss: 0.0138 - acc: 0.9960 - val_loss: 1.0732 - val_acc: 0.8812\n",
      "Epoch 39/50\n",
      "2000/2000 [==============================] - 2s - loss: 0.0144 - acc: 0.9965 - val_loss: 1.0252 - val_acc: 0.8875\n",
      "Epoch 40/50\n",
      "2000/2000 [==============================] - 2s - loss: 0.0259 - acc: 0.9945 - val_loss: 1.0601 - val_acc: 0.8800\n",
      "Epoch 41/50\n",
      "2000/2000 [==============================] - 2s - loss: 0.0268 - acc: 0.9915 - val_loss: 1.0080 - val_acc: 0.8825\n",
      "Epoch 42/50\n",
      "2000/2000 [==============================] - 2s - loss: 0.0135 - acc: 0.9965 - val_loss: 1.0711 - val_acc: 0.8850\n",
      "Epoch 43/50\n",
      "2000/2000 [==============================] - 2s - loss: 0.0183 - acc: 0.9960 - val_loss: 1.2047 - val_acc: 0.8812\n",
      "Epoch 44/50\n",
      "2000/2000 [==============================] - 2s - loss: 0.0253 - acc: 0.9920 - val_loss: 1.0384 - val_acc: 0.8900\n",
      "Epoch 45/50\n",
      "2000/2000 [==============================] - 2s - loss: 0.0221 - acc: 0.9910 - val_loss: 1.0661 - val_acc: 0.8762\n",
      "Epoch 46/50\n",
      "2000/2000 [==============================] - 2s - loss: 0.0114 - acc: 0.9970 - val_loss: 1.0772 - val_acc: 0.8825\n",
      "Epoch 47/50\n",
      "2000/2000 [==============================] - 2s - loss: 0.0107 - acc: 0.9970 - val_loss: 1.0841 - val_acc: 0.8775\n",
      "Epoch 48/50\n",
      "2000/2000 [==============================] - 2s - loss: 0.0111 - acc: 0.9960 - val_loss: 1.3186 - val_acc: 0.8588\n",
      "Epoch 49/50\n",
      "2000/2000 [==============================] - 2s - loss: 0.0104 - acc: 0.9975 - val_loss: 1.2023 - val_acc: 0.8762\n",
      "Epoch 50/50\n",
      "2000/2000 [==============================] - 2s - loss: 0.0102 - acc: 0.9965 - val_loss: 1.1780 - val_acc: 0.8800\n",
      "ellapsed time in seconds: 140.85941338539124\n"
     ]
    }
   ],
   "source": [
    "# make a list of 0s for cats and 1 for dogs, and concatenate them as an array\n",
    "train_data = np.load(open('bottleneck_features_train.npy', 'rb'))\n",
    "train_labels = np.array([0] * (nb_train_samples // 2) + [1] * (nb_train_samples // 2))\n",
    "\n",
    "# make a list of 0s for cats and 1 for dogs, and concatenate them as an array\n",
    "validation_data = np.load(open('bottleneck_features_validation.npy', 'rb'))\n",
    "validation_labels = np.array([0] * (nb_validation_samples // 2) + [1] * (nb_validation_samples // 2))\n",
    "\n",
    "model = Sequential()\n",
    "model.add(Flatten(input_shape=train_data.shape[1:]))\n",
    "model.add(Dense(256, activation='relu'))\n",
    "model.add(Dropout(0.5))\n",
    "model.add(Dense(1, activation='sigmoid'))\n",
    "\n",
    "model.compile(optimizer='rmsprop',\n",
    "              loss='binary_crossentropy', metrics=['accuracy'])\n",
    "\n",
    "start = time.time()\n",
    "history = model.fit(train_data, train_labels,\n",
    "          epochs=epochs,\n",
    "          batch_size=batch_size,\n",
    "          validation_data=(validation_data, validation_labels))\n",
    "model.save_weights(top_model_weights_path)\n",
    "print(\"ellapsed time in seconds:\", (time.time()-start))"
   ]
  },
  {
   "cell_type": "markdown",
   "metadata": {},
   "source": [
    "### 3. Build the `model` as a combination of `vgg16_model` and `top_model`\n",
    "Remember to freeze the layers of VGG16 (set them as non-trainable). The reason to freeze the last first layers of VGG16 is explained in the article:\n",
    "> we choose to only fine-tune the last convolutional block rather than the entire network in order to prevent overfitting, since the entire network would have a very large entropic capacity and thus a strong tendency to overfit. *The features learned by low-level convolutional blocks are more general, less abstract than those found higher-up*, so it is sensible to keep the first few blocks fixed (more general features) and only fine-tune the last one (more specialized features)."
   ]
  },
  {
   "cell_type": "code",
   "execution_count": 3,
   "metadata": {
    "scrolled": true
   },
   "outputs": [
    {
     "name": "stdout",
     "output_type": "stream",
     "text": [
      "_________________________________________________________________\n",
      "Layer (type)                 Output Shape              Param #   \n",
      "=================================================================\n",
      "input_1 (InputLayer)         (None, 150, 150, 3)       0         \n",
      "_________________________________________________________________\n",
      "block1_conv1 (Conv2D)        (None, 150, 150, 64)      1792      \n",
      "_________________________________________________________________\n",
      "block1_conv2 (Conv2D)        (None, 150, 150, 64)      36928     \n",
      "_________________________________________________________________\n",
      "block1_pool (MaxPooling2D)   (None, 75, 75, 64)        0         \n",
      "_________________________________________________________________\n",
      "block2_conv1 (Conv2D)        (None, 75, 75, 128)       73856     \n",
      "_________________________________________________________________\n",
      "block2_conv2 (Conv2D)        (None, 75, 75, 128)       147584    \n",
      "_________________________________________________________________\n",
      "block2_pool (MaxPooling2D)   (None, 37, 37, 128)       0         \n",
      "_________________________________________________________________\n",
      "block3_conv1 (Conv2D)        (None, 37, 37, 256)       295168    \n",
      "_________________________________________________________________\n",
      "block3_conv2 (Conv2D)        (None, 37, 37, 256)       590080    \n",
      "_________________________________________________________________\n",
      "block3_conv3 (Conv2D)        (None, 37, 37, 256)       590080    \n",
      "_________________________________________________________________\n",
      "block3_pool (MaxPooling2D)   (None, 18, 18, 256)       0         \n",
      "_________________________________________________________________\n",
      "block4_conv1 (Conv2D)        (None, 18, 18, 512)       1180160   \n",
      "_________________________________________________________________\n",
      "block4_conv2 (Conv2D)        (None, 18, 18, 512)       2359808   \n",
      "_________________________________________________________________\n",
      "block4_conv3 (Conv2D)        (None, 18, 18, 512)       2359808   \n",
      "_________________________________________________________________\n",
      "block4_pool (MaxPooling2D)   (None, 9, 9, 512)         0         \n",
      "_________________________________________________________________\n",
      "block5_conv1 (Conv2D)        (None, 9, 9, 512)         2359808   \n",
      "_________________________________________________________________\n",
      "block5_conv2 (Conv2D)        (None, 9, 9, 512)         2359808   \n",
      "_________________________________________________________________\n",
      "block5_conv3 (Conv2D)        (None, 9, 9, 512)         2359808   \n",
      "_________________________________________________________________\n",
      "block5_pool (MaxPooling2D)   (None, 4, 4, 512)         0         \n",
      "_________________________________________________________________\n",
      "sequential_1 (Sequential)    (None, 1)                 2097665   \n",
      "=================================================================\n",
      "Total params: 16,812,353\n",
      "Trainable params: 16,812,353\n",
      "Non-trainable params: 0\n",
      "_________________________________________________________________\n"
     ]
    }
   ],
   "source": [
    "from keras import backend as K\n",
    "from keras.models import Model \n",
    "\n",
    "if K.image_data_format() == 'channels_first':\n",
    "    input_shape = (3, img_width, img_height)\n",
    "else:\n",
    "    input_shape = (img_width, img_height, 3)\n",
    "    \n",
    "# build the VGG16 network\n",
    "# gracias a include_top=False no se carga las 3 capas iniciales, donde está definida una entrada de 224x224\n",
    "base_model = applications.VGG16(weights='imagenet', include_top=False, input_shape=input_shape)\n",
    "\n",
    "# build a classifier model to put on top of the convolutional model\n",
    "top_model = Sequential()\n",
    "top_model.add(Flatten(input_shape=base_model.output_shape[1:]))\n",
    "top_model.add(Dense(256, activation='relu'))\n",
    "top_model.add(Dropout(0.5))\n",
    "top_model.add(Dense(1, activation='sigmoid'))\n",
    "\n",
    "# note that it is necessary to start with a fully-trained\n",
    "# classifier, including the top classifier,\n",
    "# in order to successfully do fine-tuning\n",
    "top_model.load_weights(top_model_weights_path)\n",
    "\n",
    "# add the model on top of the convolutional base\n",
    "# model.add(top_model)  # 'Model' object has no attribute 'add'\n",
    "# keras.applications.vgg16 uses Functional API. You can only use the \"add\" method to a Sequential AP\n",
    "model = Model(inputs=base_model.input, outputs= top_model(base_model.output))\n",
    "model.summary()"
   ]
  },
  {
   "cell_type": "markdown",
   "metadata": {},
   "source": [
    "<img src=\"vgg16_modified.png\" />"
   ]
  },
  {
   "cell_type": "code",
   "execution_count": 4,
   "metadata": {
    "scrolled": true
   },
   "outputs": [
    {
     "name": "stdout",
     "output_type": "stream",
     "text": [
      "input_1\n",
      "block1_conv1\n",
      "block1_conv2\n",
      "block1_pool\n",
      "block2_conv1\n",
      "block2_conv2\n",
      "block2_pool\n",
      "block3_conv1\n",
      "block3_conv2\n",
      "block3_conv3\n",
      "block3_pool\n",
      "block4_conv1\n",
      "block4_conv2\n",
      "block4_conv3\n",
      "block4_pool\n"
     ]
    }
   ],
   "source": [
    "# freeze the first layers up to block5, \n",
    "# block5 must be trainable - this block is what we are going to fine-tune!\n",
    "for layer in model.layers[:15]:\n",
    "    print(layer.get_config()['name'])\n",
    "    layer.trainable = False"
   ]
  },
  {
   "cell_type": "markdown",
   "metadata": {},
   "source": [
    "### 4. Train or fine-tune the `model`\n",
    "> fine-tuning should be done with a very slow learning rate, and typically with the SGD optimizer rather than an adaptative learning rate optimizer such as RMSProp. This is to make sure that the magnitude of the updates stays very small, so as not to wreck the previously learned features."
   ]
  },
  {
   "cell_type": "code",
   "execution_count": 5,
   "metadata": {
    "collapsed": true
   },
   "outputs": [],
   "source": [
    "from keras import optimizers\n",
    "# compile the model with a SGD/momentum optimizer\n",
    "# and a very slow learning rate.\n",
    "# using hyperparameters used by others, see http://www.cs.toronto.edu/~fritz/absps/imagenet.pdf\n",
    "model.compile(loss='binary_crossentropy',\n",
    "              optimizer=optimizers.SGD(lr=1e-4, momentum=0.9),\n",
    "              metrics=['accuracy'])"
   ]
  },
  {
   "cell_type": "code",
   "execution_count": 6,
   "metadata": {},
   "outputs": [
    {
     "name": "stdout",
     "output_type": "stream",
     "text": [
      "Found 2000 images belonging to 2 classes.\n",
      "Found 800 images belonging to 2 classes.\n"
     ]
    }
   ],
   "source": [
    "# prepare data augmentation configuration\n",
    "train_datagen = ImageDataGenerator(\n",
    "    rescale=1. / 255,\n",
    "    shear_range=0.2,\n",
    "    zoom_range=0.2,\n",
    "    horizontal_flip=True)\n",
    "\n",
    "test_datagen = ImageDataGenerator(rescale=1. / 255)\n",
    "\n",
    "train_generator = train_datagen.flow_from_directory(\n",
    "    train_data_dir,\n",
    "    target_size=(img_height, img_width),\n",
    "    batch_size=batch_size,\n",
    "    class_mode='binary')\n",
    "\n",
    "validation_generator = test_datagen.flow_from_directory(\n",
    "    validation_data_dir,\n",
    "    target_size=(img_height, img_width),\n",
    "    batch_size=batch_size,\n",
    "    class_mode='binary')"
   ]
  },
  {
   "cell_type": "code",
   "execution_count": 7,
   "metadata": {},
   "outputs": [
    {
     "name": "stdout",
     "output_type": "stream",
     "text": [
      "Epoch 1/20\n",
      "125/125 [==============================] - 539s - loss: 0.4736 - acc: 0.8455 - val_loss: 0.4581 - val_acc: 0.8688\n",
      "Epoch 2/20\n",
      "125/125 [==============================] - 538s - loss: 0.2618 - acc: 0.8940 - val_loss: 0.3589 - val_acc: 0.9125\n",
      "Epoch 3/20\n",
      "125/125 [==============================] - 560s - loss: 0.2156 - acc: 0.9205 - val_loss: 0.3583 - val_acc: 0.9038\n",
      "Epoch 4/20\n",
      "125/125 [==============================] - 578s - loss: 0.1633 - acc: 0.9435 - val_loss: 0.3225 - val_acc: 0.9062\n",
      "Epoch 5/20\n",
      "125/125 [==============================] - 545s - loss: 0.1285 - acc: 0.9515 - val_loss: 0.3390 - val_acc: 0.9050\n",
      "Epoch 6/20\n",
      "125/125 [==============================] - 533s - loss: 0.1305 - acc: 0.9540 - val_loss: 0.2956 - val_acc: 0.9125\n",
      "Epoch 7/20\n",
      "125/125 [==============================] - 530s - loss: 0.1067 - acc: 0.9620 - val_loss: 0.3353 - val_acc: 0.9087\n",
      "Epoch 8/20\n",
      "125/125 [==============================] - 530s - loss: 0.0842 - acc: 0.9655 - val_loss: 0.2772 - val_acc: 0.9475\n",
      "Epoch 9/20\n",
      "125/125 [==============================] - 530s - loss: 0.0720 - acc: 0.9770 - val_loss: 0.5505 - val_acc: 0.9113\n",
      "Epoch 10/20\n",
      "125/125 [==============================] - 530s - loss: 0.0806 - acc: 0.9725 - val_loss: 0.4909 - val_acc: 0.9187\n",
      "Epoch 11/20\n",
      "125/125 [==============================] - 530s - loss: 0.0625 - acc: 0.9775 - val_loss: 0.4394 - val_acc: 0.9275\n",
      "Epoch 12/20\n",
      "125/125 [==============================] - 531s - loss: 0.0843 - acc: 0.9715 - val_loss: 0.2709 - val_acc: 0.9237\n",
      "Epoch 13/20\n",
      "125/125 [==============================] - 530s - loss: 0.0800 - acc: 0.9755 - val_loss: 0.4940 - val_acc: 0.9075\n",
      "Epoch 14/20\n",
      "125/125 [==============================] - 533s - loss: 0.0555 - acc: 0.9840 - val_loss: 0.5188 - val_acc: 0.9287\n",
      "Epoch 15/20\n",
      "125/125 [==============================] - 534s - loss: 0.0748 - acc: 0.9710 - val_loss: 0.4237 - val_acc: 0.9275\n",
      "Epoch 16/20\n",
      "125/125 [==============================] - 534s - loss: 0.0405 - acc: 0.9885 - val_loss: 0.6316 - val_acc: 0.9163\n",
      "Epoch 17/20\n",
      "125/125 [==============================] - 534s - loss: 0.0664 - acc: 0.9785 - val_loss: 0.3973 - val_acc: 0.9213\n",
      "Epoch 18/20\n",
      "125/125 [==============================] - 533s - loss: 0.0491 - acc: 0.9830 - val_loss: 0.3976 - val_acc: 0.9187\n",
      "Epoch 19/20\n",
      "125/125 [==============================] - 530s - loss: 0.0706 - acc: 0.9780 - val_loss: 0.3750 - val_acc: 0.9237\n",
      "Epoch 20/20\n",
      "125/125 [==============================] - 531s - loss: 0.0373 - acc: 0.9865 - val_loss: 0.3984 - val_acc: 0.9325\n",
      "ellapsed time in seconds: 10746.691869735718\n"
     ]
    }
   ],
   "source": [
    "start = time.time()\n",
    "# fine-tune the model\n",
    "# we should get 90-95% in 50 epochs (7.5 hours of training on CPU!)\n",
    "history = model.fit_generator(\n",
    "    train_generator,\n",
    "    steps_per_epoch=nb_train_samples // batch_size,\n",
    "    epochs=20,\n",
    "    validation_data=validation_generator,\n",
    "    validation_steps=nb_validation_samples // batch_size)\n",
    "print(\"ellapsed time in seconds:\", (time.time()-start))"
   ]
  },
  {
   "cell_type": "code",
   "execution_count": 8,
   "metadata": {
    "collapsed": true
   },
   "outputs": [],
   "source": [
    "model.save_weights(\"vgg16+topmodel-weights-only.h5\")\n",
    "model.save(\"vgg16+topmodel.h5\")"
   ]
  },
  {
   "cell_type": "code",
   "execution_count": 14,
   "metadata": {},
   "outputs": [
    {
     "data": {
      "text/plain": [
       "<matplotlib.axes._subplots.AxesSubplot at 0x1e98428a748>"
      ]
     },
     "execution_count": 14,
     "metadata": {},
     "output_type": "execute_result"
    },
    {
     "data": {
      "image/png": "[encoded data removed]",
      "text/plain": [
       "<matplotlib.figure.Figure at 0x1e983189358>"
      ]
     },
     "metadata": {},
     "output_type": "display_data"
    },
    {
     "data": {
      "image/png": "[encoded data removed]",
      "text/plain": [
       "<matplotlib.figure.Figure at 0x1e982f4d668>"
      ]
     },
     "metadata": {},
     "output_type": "display_data"
    }
   ],
   "source": [
    "import pandas as pd\n",
    "import matplotlib.pyplot as plt\n",
    "%matplotlib inline\n",
    "df = pd.DataFrame(history.history)\n",
    "df.plot(y=['loss', 'val_loss'], figsize=(16,4), title='Loss')\n",
    "df.plot(y=['acc', 'val_acc'], figsize=(16,4), title='Accuracy')\n",
    "# df"
   ]
  },
  {
   "cell_type": "markdown",
   "metadata": {},
   "source": [
    "### 5. Use the `model` to make predictions"
   ]
  },
  {
   "cell_type": "code",
   "execution_count": 10,
   "metadata": {},
   "outputs": [],
   "source": [
    "from keras.models import load_model\n",
    "predictor = load_model(\"vgg16+topmodel.h5\")"
   ]
  },
  {
   "cell_type": "code",
   "execution_count": 11,
   "metadata": {
    "collapsed": true
   },
   "outputs": [],
   "source": [
    "import numpy as np\n",
    "from keras.preprocessing.image import ImageDataGenerator, img_to_array, load_img\n",
    "from keras.models import load_model\n",
    "# from https://gist.github.com/ragvri/6a28b08b9ad844bc66b90db7d7cebb17\n",
    "def predict_image_class(predictor, file, w, h):\n",
    "#     model = applications.VGG16(include_top=False, weights='imagenet')\n",
    "    x = load_img(file, target_size=(w, h))\n",
    "    x = img_to_array(x)\n",
    "    x = np.expand_dims(x, axis=0)\n",
    "    array = predictor.predict(x)\n",
    "    print(array)\n",
    "    if array[0][0] == 1:\n",
    "        print(\"dog\")\n",
    "    else:\n",
    "        print(\"cat\")"
   ]
  },
  {
   "cell_type": "code",
   "execution_count": 12,
   "metadata": {},
   "outputs": [
    {
     "name": "stdout",
     "output_type": "stream",
     "text": [
      "[[ 1.]]\n",
      "dog\n",
      "[[ 0.]]\n",
      "cat\n"
     ]
    }
   ],
   "source": [
    "predict_image_class(predictor, \"data/validation/dogs/dog.12100.jpg\", img_width, img_height)\n",
    "predict_image_class(predictor, \"data/validation/cats/cat.12100.jpg\", img_width, img_height)"
   ]
  },
  {
   "cell_type": "markdown",
   "metadata": {},
   "source": [
    "To get above 95% accuracy the article recommends:\n",
    "> more aggresive data augmentation, \n",
    "> more aggressive dropout, \n",
    "> use of L1 and L2 regularization (also known as \"weight decay\"), \n",
    "> fine-tuning one more convolutional block (alongside greater regularization)\n",
    "\n"
   ]
  },
  {
   "cell_type": "code",
   "execution_count": null,
   "metadata": {
    "collapsed": true
   },
   "outputs": [],
   "source": []
  }
 ],
 "metadata": {
  "kernelspec": {
   "display_name": "Python 3",
   "language": "python",
   "name": "python3"
  },
  "language_info": {
   "codemirror_mode": {
    "name": "ipython",
    "version": 3
   },
   "file_extension": ".py",
   "mimetype": "text/x-python",
   "name": "python",
   "nbconvert_exporter": "python",
   "pygments_lexer": "ipython3",
   "version": "3.5.2"
  }
 },
 "nbformat": 4,
 "nbformat_minor": 2
}
