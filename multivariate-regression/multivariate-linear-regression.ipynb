{
 "cells": [
  {
   "cell_type": "markdown",
   "metadata": {},
   "source": [
    "#### Classical Linear Regression Model  (Johnson&Wichern)\n",
    "\n",
    "Metodología estadística para predecir el valor de una o más respuestas a partir de una colección de predictores.\n",
    "\n",
    "$Y = \\beta_0 + \\beta_1 z_1 + ... + \\beta_r z_r + \\epsilon$\n",
    "\n",
    "La variable Y (response) = media (dependiendo de $z_1$, $z_2$, ... $z_r$) + error.\n",
    "\n",
    "Si tenemos n observaciones independientes de Y y sus respectivos valores, el modelo completo es:\n",
    "\n",
    "\\begin{align}\n",
    "Y_1 =  \\beta_0 + \\beta_1 z_11 + \\beta_2 z_12 + ... + \\beta_r z_1r + \\epsilon_1 \\\\\n",
    "Y_2 =  \\beta_0 + \\beta_1 z_21 + \\beta_2 z_22 + ... + \\beta_r z_2r + \\epsilon_2 \\\\\n",
    "... \\\\\n",
    "Y_n =  \\beta_0 + \\beta_1 z_n1 + \\beta_2 z_n2 + ... + \\beta_r z_nr + \\epsilon_n \\\\\n",
    "\\end{align}\n",
    "\n",
    "O, de forma matricial:\n",
    "\n",
    "$$Y = Z \\beta + \\epsilon$$\n",
    "\n",
    "Se asume que el error cumple con las siguientes propiedades:\n",
    "\n",
    " - $E(\\epsilon_j) = 0$\n",
    " - $Var(\\epsilon_j) = \\sigma^2$\n",
    " - $Cov(\\epsilon_j,\\epsilon_k) = 0,j \\neq k$\n",
    "\n",
    "O, de forma matricial:\n",
    "\n",
    " - $E(\\epsilon) = 0$\n",
    " - $Cov(\\epsilon) = E(\\epsilon\\epsilon') = \\sigma I$\n",
    " \n",
    "Estimando $\\beta$ usando mínimos cuadrados:\n",
    "\n",
    "\n",
    "$$\\hat\\beta = (ZZ')^{-1} Z' y $$"
   ]
  },
  {
   "cell_type": "markdown",
   "metadata": {},
   "source": [
    "#### Example #1"
   ]
  },
  {
   "cell_type": "code",
   "execution_count": null,
   "metadata": {},
   "outputs": [],
   "source": [
    "import numpy as np\n",
    "X = np.array([0,1,2,3,4])\n",
    "Y = np.array([1,4,3,8,9])"
   ]
  },
  {
   "cell_type": "code",
   "execution_count": 5,
   "metadata": {},
   "outputs": [
    {
     "data": {
      "text/plain": [
       "<matplotlib.text.Text at 0x7f4199d45860>"
      ]
     },
     "execution_count": 5,
     "metadata": {},
     "output_type": "execute_result"
    },
    {
     "data": {
      "image/png": "[encoded data removed]",
      "text/plain": [
       "<matplotlib.figure.Figure at 0x7f4199d4a4e0>"
      ]
     },
     "metadata": {},
     "output_type": "display_data"
    }
   ],
   "source": [
    "import matplotlib.pyplot as plt\n",
    "%matplotlib inline\n",
    "\n",
    "plt.plot(X, Y, 'x')\n",
    "plt.xlim(0,6)\n",
    "plt.xlabel('X')\n",
    "plt.ylabel('Y')"
   ]
  },
  {
   "cell_type": "code",
   "execution_count": 24,
   "metadata": {},
   "outputs": [
    {
     "data": {
      "text/plain": [
       "array([[ 1.,  0.],\n",
       "       [ 1.,  1.],\n",
       "       [ 1.,  2.],\n",
       "       [ 1.,  3.],\n",
       "       [ 1.,  4.]])"
      ]
     },
     "execution_count": 24,
     "metadata": {},
     "output_type": "execute_result"
    }
   ],
   "source": [
    "# estimador_beta = (Z*Z')^-1 * Z' * Y\n",
    "Z = np.c_[np.ones(X.shape[0]), X]\n",
    "Z"
   ]
  },
  {
   "cell_type": "code",
   "execution_count": 27,
   "metadata": {},
   "outputs": [
    {
     "data": {
      "text/plain": [
       "array([[  5.,  10.],\n",
       "       [ 10.,  30.]])"
      ]
     },
     "execution_count": 27,
     "metadata": {},
     "output_type": "execute_result"
    }
   ],
   "source": [
    "Z2 = Z.T.dot(Z)\n",
    "Z2"
   ]
  },
  {
   "cell_type": "code",
   "execution_count": 28,
   "metadata": {},
   "outputs": [
    {
     "data": {
      "text/plain": [
       "array([[ 0.6, -0.2],\n",
       "       [-0.2,  0.1]])"
      ]
     },
     "execution_count": 28,
     "metadata": {},
     "output_type": "execute_result"
    }
   ],
   "source": [
    "Z2_inv = np.linalg.inv(Z2)\n",
    "Z2_inv"
   ]
  },
  {
   "cell_type": "code",
   "execution_count": 30,
   "metadata": {},
   "outputs": [
    {
     "data": {
      "text/plain": [
       "array([ 1.,  2.])"
      ]
     },
     "execution_count": 30,
     "metadata": {},
     "output_type": "execute_result"
    }
   ],
   "source": [
    "beta_hat = np.linalg.inv(Z.T.dot(Z)).dot(Z.T).dot(Y)\n",
    "beta_hat"
   ]
  },
  {
   "cell_type": "markdown",
   "metadata": {},
   "source": [
    "Modelo:\n",
    "$$\n",
    "\\hat Y = Z \\hat\\beta \\\\\n",
    "\\hat y = 1 + 2 * z\n",
    "$$"
   ]
  },
  {
   "cell_type": "code",
   "execution_count": 35,
   "metadata": {},
   "outputs": [
    {
     "data": {
      "text/plain": [
       "array([ 1.,  3.,  5.,  7.,  9.])"
      ]
     },
     "execution_count": 35,
     "metadata": {},
     "output_type": "execute_result"
    }
   ],
   "source": [
    "Y_hat = Z.dot(beta_hat)\n",
    "Y_hat"
   ]
  },
  {
   "cell_type": "code",
   "execution_count": 48,
   "metadata": {},
   "outputs": [
    {
     "data": {
      "text/plain": [
       "<matplotlib.text.Text at 0x7f41997b8a20>"
      ]
     },
     "execution_count": 48,
     "metadata": {},
     "output_type": "execute_result"
    },
    {
     "data": {
      "image/png": "[encoded data removed]",
      "text/plain": [
       "<matplotlib.figure.Figure at 0x7f41998c5438>"
      ]
     },
     "metadata": {},
     "output_type": "display_data"
    }
   ],
   "source": [
    "import matplotlib.pyplot as plt\n",
    "%matplotlib inline\n",
    "\n",
    "plt.plot(X, Y, 'x')\n",
    "plt.plot(X, Y_hat)\n",
    "plt.xlabel('X')\n",
    "plt.ylabel('Y')"
   ]
  },
  {
   "cell_type": "code",
   "execution_count": 50,
   "metadata": {},
   "outputs": [
    {
     "data": {
      "text/plain": [
       "array([ -8.88178420e-16,   1.00000000e+00,  -2.00000000e+00,\n",
       "         1.00000000e+00,  -3.55271368e-15])"
      ]
     },
     "execution_count": 50,
     "metadata": {},
     "output_type": "execute_result"
    }
   ],
   "source": [
    "epsilon_hat = Y - Y_hat\n",
    "epsilon_hat"
   ]
  },
  {
   "cell_type": "code",
   "execution_count": 51,
   "metadata": {},
   "outputs": [
    {
     "data": {
      "text/plain": [
       "5.9999999999999991"
      ]
     },
     "execution_count": 51,
     "metadata": {},
     "output_type": "execute_result"
    }
   ],
   "source": [
    "# residual sum of squares\n",
    "epsilon_hat.T.dot(epsilon_hat)"
   ]
  },
  {
   "cell_type": "markdown",
   "metadata": {},
   "source": [
    "$$y'y = \\hat y' \\hat y + \\hat\\epsilon' \\hat\\epsilon$$"
   ]
  },
  {
   "cell_type": "code",
   "execution_count": 55,
   "metadata": {},
   "outputs": [
    {
     "name": "stdout",
     "output_type": "stream",
     "text": [
      "Y'Y = 171\n",
      "Y_'Y_ + e_'e_ = 171.0\n"
     ]
    }
   ],
   "source": [
    "print(\"Y'Y =\", Y.T.dot(Y))\n",
    "print(\"Y_'Y_ + e_'e_ =\", Y_hat.T.dot(Y_hat) + epsilon_hat.T.dot(epsilon_hat))"
   ]
  },
  {
   "cell_type": "markdown",
   "metadata": {},
   "source": [
    "Coefficient of determination\n",
    "$$R^2 = 1 - \\frac{\\sum_{j=1}^n \\hat\\epsilon_j^2}{\\sum_{j=1}^n (y_j - \\bar y)} = \\frac{\\sum_{j=1}^n (\\hat y_j - \\bar y)}{\\sum_{j=1}^n (y_j - \\bar y)}$$"
   ]
  },
  {
   "cell_type": "markdown",
   "metadata": {},
   "source": [
    "Residuals $\\hat\\epsilon_j$ can be plotted against the predicted values $\\hat y_j$. It should be like (d) showing equal variances and no dependences on $\\hat y$\n",
    "\n",
    "<img src=\"residuals_against_predicted_y_small.png\"/>"
   ]
  },
  {
   "cell_type": "code",
   "execution_count": null,
   "metadata": {},
   "outputs": [],
   "source": [
    "#### Example #2"
   ]
  },
  {
   "cell_type": "code",
   "execution_count": 63,
   "metadata": {},
   "outputs": [],
   "source": [
    "X = np.array([\n",
    "[15.31,57.3],\n",
    "[15.2,63.8],\n",
    "[16.25,65.4,],\n",
    "[14.33,57.0],\n",
    "[14.57,63.8],\n",
    "[17.33,63.2],\n",
    "[14.48,60.2],\n",
    "[14.91,57.7],\n",
    "[15.25,56.4],\n",
    "[13.89,55.6],\n",
    "[15.18,62.6],\n",
    "[14.44,63.4],\n",
    "[14.87,60.2],\n",
    "[18.63,67.2],\n",
    "[15.2,57.1],\n",
    "[25.76,89.6],\n",
    "[19.05,68.6],\n",
    "[15.37,60.1],\n",
    "[18.06,66.3],\n",
    "[16.35,65.8]])\n",
    "Y = np.array([\n",
    "    74.8,\n",
    "    74,\n",
    "    72.9,\n",
    "    70.0,\n",
    "    74.9,\n",
    "    76,\n",
    "    72,\n",
    "    73.5,\n",
    "    74.5,\n",
    "    73.5,\n",
    "    71.5,\n",
    "    71,\n",
    "    78.9,\n",
    "    86.5,\n",
    "    68,\n",
    "    102,\n",
    "    84,\n",
    "    69,\n",
    "    88,\n",
    "    76])"
   ]
  },
  {
   "cell_type": "code",
   "execution_count": 66,
   "metadata": {},
   "outputs": [
    {
     "data": {
      "text/plain": [
       "array([ 30.96656634,   2.63439962,   0.04518386])"
      ]
     },
     "execution_count": 66,
     "metadata": {},
     "output_type": "execute_result"
    }
   ],
   "source": [
    "Z = np.c_[np.ones(X.shape[0]), X]\n",
    "beta_hat = np.linalg.inv(Z.T.dot(Z)).dot(Z.T).dot(Y)\n",
    "beta_hat"
   ]
  },
  {
   "cell_type": "code",
   "execution_count": 67,
   "metadata": {},
   "outputs": [
    {
     "data": {
      "text/plain": [
       "array([  73.88825979,   73.89217092,   76.7305847 ,   71.292993  ,\n",
       "         72.23249916,   79.47633181,   71.83274129,   72.85257348,\n",
       "         73.68953034,   70.07059976,   73.7852623 ,   71.87195366,\n",
       "         72.86015715,   83.08178676,   73.58943906,  102.87717455,\n",
       "         84.25149201,   74.17283857,   81.5395135 ,   77.01209821])"
      ]
     },
     "execution_count": 67,
     "metadata": {},
     "output_type": "execute_result"
    }
   ],
   "source": [
    "Y_hat = Z.dot(beta_hat)\n",
    "Y_hat"
   ]
  },
  {
   "cell_type": "code",
   "execution_count": 93,
   "metadata": {},
   "outputs": [
    {
     "data": {
      "text/plain": [
       "<mpl_toolkits.mplot3d.art3d.Path3DCollection at 0x7f41998a2940>"
      ]
     },
     "execution_count": 93,
     "metadata": {},
     "output_type": "execute_result"
    },
    {
     "data": {
      "image/png": "[encoded data removed]",
      "text/plain": [
       "<matplotlib.figure.Figure at 0x7f41993b2128>"
      ]
     },
     "metadata": {},
     "output_type": "display_data"
    }
   ],
   "source": [
    "from mpl_toolkits.mplot3d import Axes3D\n",
    "fig = plt.figure(figsize=plt.figaspect(.5))\n",
    "ax = fig.add_subplot(1, 1, 1, projection='3d')\n",
    "ax.scatter(X[:, 0], X[:, 1], Y)\n",
    "ax.scatter(X[:, 0], X[:, 1], Y_hat)"
   ]
  },
  {
   "cell_type": "code",
   "execution_count": 96,
   "metadata": {},
   "outputs": [
    {
     "data": {
      "image/png": "[encoded data removed]",
      "text/plain": [
       "<matplotlib.figure.Figure at 0x7f419923dc18>"
      ]
     },
     "metadata": {},
     "output_type": "display_data"
    }
   ],
   "source": [
    "from mpl_toolkits.mplot3d import Axes3D\n",
    "fig = plt.figure(figsize=plt.figaspect(.5))\n",
    "ax = fig.add_subplot(1, 1, 1, projection='3d')\n",
    "ax.scatter(X[:, 0], X[:, 1], Y)\n",
    "ax.scatter(X[:, 0], X[:, 1], Y_hat)\n",
    "ax.view_init(elev=90., azim=90.)"
   ]
  }
 ],
 "metadata": {
  "kernelspec": {
   "display_name": "Python 3",
   "language": "python",
   "name": "python3"
  },
  "language_info": {
   "codemirror_mode": {
    "name": "ipython",
    "version": 3
   },
   "file_extension": ".py",
   "mimetype": "text/x-python",
   "name": "python",
   "nbconvert_exporter": "python",
   "pygments_lexer": "ipython3",
   "version": "3.5.2"
  }
 },
 "nbformat": 4,
 "nbformat_minor": 2
}
