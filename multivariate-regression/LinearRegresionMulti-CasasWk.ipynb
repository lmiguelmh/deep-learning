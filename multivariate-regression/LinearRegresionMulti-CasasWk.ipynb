{
 "cells": [
  {
   "cell_type": "code",
   "execution_count": 1,
   "metadata": {},
   "outputs": [
    {
     "name": "stdout",
     "output_type": "stream",
     "text": [
      "done\n"
     ]
    }
   ],
   "source": [
    "import pandas as pd\n",
    "import numpy as np\n",
    "import matplotlib.pyplot as plt\n",
    "\n",
    "pd.set_option('display.notebook_repr_html', False)\n",
    "pd.set_option('display.max_columns', None)\n",
    "pd.set_option('display.max_rows', 150)\n",
    "pd.set_option('display.max_seq_items', None)\n",
    " \n",
    "%matplotlib inline  \n",
    "\n",
    "print(\"done\")"
   ]
  },
  {
   "cell_type": "code",
   "execution_count": 2,
   "metadata": {},
   "outputs": [
    {
     "name": "stdout",
     "output_type": "stream",
     "text": [
      "X = \n",
      "[[   1.    132.3     3.      2.     66.15]\n",
      " [   1.    141.5     3.      2.     70.75]\n",
      " [   1.     71.2     1.      1.     71.2 ]]\n",
      "y = \n",
      "[[ 319000.]\n",
      " [ 389000.]\n",
      " [ 199000.]]\n"
     ]
    }
   ],
   "source": [
    "data = np.loadtxt('CasasMulti.txt')\n",
    "#------------------------------------\n",
    "#Adicione su código\n",
    "#Objetivo: - separar la data en X = Training Set y y = targets\n",
    "#          - Insertar una columna de 1's en X\n",
    "\n",
    "X = np.ones((data.shape[0], data.shape[1]))\n",
    "for i in range(1, data.shape[1]):\n",
    "    X[:, i] = data[:, i-1]\n",
    "    \n",
    "y = np.c_[data[:,data.shape[1]-1]] \n",
    "\n",
    "# print some values\n",
    "print(\"X = \")\n",
    "print(X[0:3, :])\n",
    "print(\"y = \")\n",
    "print(y[0:3, :])\n",
    "#-------------------------------------"
   ]
  },
  {
   "cell_type": "code",
   "execution_count": 3,
   "metadata": {
    "collapsed": true
   },
   "outputs": [],
   "source": [
    "#----------------------------------\n",
    "#Adiciones su código\n",
    "#Objetivo: Definir la función de normalización de características\n",
    "\n",
    "def featureNormalize(X):\n",
    "    X_norm = np.zeros(X.shape)\n",
    "    mu = np.zeros((X.shape[1]))\n",
    "    sigma = np.zeros((X.shape[1]))\n",
    "    # mean normalization\n",
    "    for i in range(1, X.shape[1]):\n",
    "        mu[i] = np.mean(X[:,i])\n",
    "        sigma[i] = np.std(X[:,i])\n",
    "        X_norm[:, i] = (X[:, i] - mu[i]) / sigma[i]\n",
    "\n",
    "    X_norm[:, 0] = X[:, 0]\n",
    "    mu[0] = np.mean(X[:,0])\n",
    "    return (X_norm, mu, sigma)\n",
    "#-----------------------------------"
   ]
  },
  {
   "cell_type": "code",
   "execution_count": 4,
   "metadata": {},
   "outputs": [
    {
     "name": "stdout",
     "output_type": "stream",
     "text": [
      "Xr = \n",
      "[[ 1.         -0.66355517 -0.21267271 -0.46216187 -0.52150854]\n",
      " [ 1.         -0.58011822 -0.21267271 -0.46216187 -0.32598498]\n",
      " [ 1.         -1.21768534 -1.75454987 -1.14947953 -0.30685767]]\n"
     ]
    }
   ],
   "source": [
    "Xr, mu, sigma = featureNormalize(X)\n",
    "# yr = (y - np.mean(y))/np.std(y)\n",
    "# mu_y = np.mean(y)\n",
    "# sigma_y = np.mean(y)\n",
    "print(\"Xr = \")\n",
    "print(Xr[0:3, :])\n",
    "# print(\"yr = \")\n",
    "# print(yr[0:3, :])\n"
   ]
  },
  {
   "cell_type": "code",
   "execution_count": 5,
   "metadata": {},
   "outputs": [
    {
     "name": "stdout",
     "output_type": "stream",
     "text": [
      "initial cost: 120757428564.0\n"
     ]
    }
   ],
   "source": [
    "#----------------------------------\n",
    "#Adiciones su código\n",
    "#Objetivo: Definir la función de Costo Multiples variables\n",
    "def computeCostMulti(X, y, theta):\n",
    "    m = y.size\n",
    "    J = 0    \n",
    "    h = X.dot(theta)    \n",
    "    J = np.sum(np.square(h-y))/(2*m)    \n",
    "    return(J)\n",
    "#--------------------------------------\n",
    "\n",
    "# print(\"initial cost:\", computeCostMulti(Xr, yr, np.zeros((Xr.shape[1],1))))\n",
    "print(\"initial cost:\", computeCostMulti(Xr, y, np.zeros((Xr.shape[1],1))))"
   ]
  },
  {
   "cell_type": "code",
   "execution_count": 6,
   "metadata": {},
   "outputs": [
    {
     "name": "stdout",
     "output_type": "stream",
     "text": [
      "as a vectorized function\n"
     ]
    }
   ],
   "source": [
    "#----------------------------------\n",
    "#Adiciones su código\n",
    "#Objetivo: Definir la función Gradiente descendente para múltiples variables\n",
    "def gradientDescentMulti(X, y, theta, alpha, num_iters):\n",
    "    \n",
    "    m = y.size\n",
    "    J_history = np.zeros(num_iters)\n",
    "    \n",
    "    for iter in np.arange(num_iters):\n",
    "        h = X.dot(theta)\n",
    "        # using vectorized operations (I could have used iterations too)\n",
    "        theta = theta - (alpha*(X.T.dot(h-y)))/m\n",
    "        J_history[iter] = computeCostMulti(X, y, theta)\n",
    "    return(theta, J_history)\n",
    "#----------------------------------\n",
    "\n",
    "print(\"as a vectorized function\")"
   ]
  },
  {
   "cell_type": "code",
   "execution_count": 7,
   "metadata": {},
   "outputs": [
    {
     "name": "stdout",
     "output_type": "stream",
     "text": [
      "theta:  [ 429402.06896552  268348.83308656  -86665.17766379   12714.65731788\n",
      "   12708.40120182]\n",
      "cost:  3115619588.84\n"
     ]
    },
    {
     "data": {
      "image/png": "[encoded data removed]",
      "text/plain": [
       "<matplotlib.figure.Figure at 0x21e4fed29e8>"
      ]
     },
     "metadata": {},
     "output_type": "display_data"
    }
   ],
   "source": [
    "#Elige los parámetros de alfa e iteraciones\n",
    "alpha = 0.1\n",
    "num_iters = 1000\n",
    "#Inicializa vector theta con ceros\n",
    "theta = np.zeros((Xr.shape[1],1))\n",
    "#Llamado a la función gradiente descendente para múltiples variables\n",
    "# theta, J_history = gradientDescentMulti(Xr, yr, theta, alpha, num_iters)\n",
    "theta, J_history = gradientDescentMulti(Xr, y, theta, alpha, num_iters)\n",
    "\n",
    "# vector theta para el mínimo costo J\n",
    "print('theta: ',theta.ravel())\n",
    "print(\"cost: \", J_history[num_iters-1])\n",
    "\n",
    "#Ploteo del historial de J\n",
    "plt.plot(J_history)\n",
    "plt.ylabel('Costo J')\n",
    "plt.xlabel('Iteraciones');"
   ]
  },
  {
   "cell_type": "code",
   "execution_count": 8,
   "metadata": {},
   "outputs": [
    {
     "data": {
      "text/plain": [
       "array([ 405118.13399272])"
      ]
     },
     "execution_count": 8,
     "metadata": {},
     "output_type": "execute_result"
    }
   ],
   "source": [
    "#estimar el precio para una casa de: 200 m2, 4 baños, 5 dormitorios y $110xm2\n",
    "\n",
    "sample=np.ones(5)\n",
    "sample[1] = sample[1]*((200-mu[1])/sigma[1])\n",
    "sample[2] = sample[2]*((4-mu[2])/sigma[2])\n",
    "sample[3] = sample[3]*((5-mu[3])/sigma[3])\n",
    "sample[4] = sample[4]*((110-mu[4])/sigma[4])\n",
    "sample.dot(theta)"
   ]
  },
  {
   "cell_type": "code",
   "execution_count": 9,
   "metadata": {},
   "outputs": [
    {
     "data": {
      "text/plain": [
       "array([ 1.        , -0.04956805,  0.55826587,  1.5997911 ,  1.34234108])"
      ]
     },
     "execution_count": 9,
     "metadata": {},
     "output_type": "execute_result"
    }
   ],
   "source": [
    "# Registro de ejemplo normalizado\n",
    "sample"
   ]
  },
  {
   "cell_type": "code",
   "execution_count": 10,
   "metadata": {},
   "outputs": [
    {
     "name": "stdout",
     "output_type": "stream",
     "text": [
      "done\n"
     ]
    }
   ],
   "source": [
    "#----------------------------------\n",
    "#Adiciones su código\n",
    "#Objetivo: Definir la función de Ecuación Normal\n",
    "def normalEqn(X,y):\n",
    "    theta = np.zeros((X.shape[1], 1))\n",
    "    theta = np.linalg.inv(X.T.dot(X)).dot(X.T).dot(y)\n",
    "    return theta\n",
    "#-----------------------------------\n",
    "print(\"done\")"
   ]
  },
  {
   "cell_type": "code",
   "execution_count": 11,
   "metadata": {},
   "outputs": [],
   "source": [
    "# Resolviendo el problema con la Ecuación Normal\n",
    "X = np.c_[np.ones(data.shape[0]),data[:,0:4]]\n",
    "theta = normalEqn(X,y)"
   ]
  },
  {
   "cell_type": "code",
   "execution_count": 12,
   "metadata": {},
   "outputs": [
    {
     "data": {
      "text/plain": [
       "array([ 400482.89092719])"
      ]
     },
     "execution_count": 12,
     "metadata": {},
     "output_type": "execute_result"
    }
   ],
   "source": [
    "sample=np.ones(5)\n",
    "sample[1] = sample[1]*200\n",
    "sample[2] = sample[2]*4\n",
    "sample[3] = sample[3]*5\n",
    "sample[4] = sample[4]*110\n",
    "sample.dot(theta)"
   ]
  },
  {
   "cell_type": "code",
   "execution_count": 13,
   "metadata": {},
   "outputs": [
    {
     "data": {
      "text/plain": [
       "array([[ 85545.80823212],\n",
       "       [  2449.26277779],\n",
       "       [-66328.49083389],\n",
       "       [  7336.76959008],\n",
       "       [   488.31493203]])"
      ]
     },
     "execution_count": 13,
     "metadata": {},
     "output_type": "execute_result"
    }
   ],
   "source": [
    "theta"
   ]
  },
  {
   "cell_type": "code",
   "execution_count": 17,
   "metadata": {},
   "outputs": [
    {
     "name": "stdout",
     "output_type": "stream",
     "text": [
      "'y' could have been regularized too!\n"
     ]
    }
   ],
   "source": [
    "print(\"'y' could have been regularized too!\")"
   ]
  }
 ],
 "metadata": {
  "anaconda-cloud": {},
  "kernelspec": {
   "display_name": "Python 3",
   "language": "python",
   "name": "python3"
  },
  "language_info": {
   "codemirror_mode": {
    "name": "ipython",
    "version": 3
   },
   "file_extension": ".py",
   "mimetype": "text/x-python",
   "name": "python",
   "nbconvert_exporter": "python",
   "pygments_lexer": "ipython3",
   "version": "3.5.2"
  }
 },
 "nbformat": 4,
 "nbformat_minor": 1
}
